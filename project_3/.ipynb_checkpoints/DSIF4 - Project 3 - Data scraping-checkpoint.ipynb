{
 "cells": [
  {
   "cell_type": "code",
   "execution_count": 1,
   "id": "7b97210a",
   "metadata": {},
   "outputs": [],
   "source": [
    "import os\n",
    "import pandas as pd\n",
    "import time\n",
    "import requests\n",
    "from datetime import datetime\n",
    "from pmaw import PushshiftAPI"
   ]
  },
  {
   "cell_type": "code",
   "execution_count": 15,
   "id": "71436e4b",
   "metadata": {},
   "outputs": [],
   "source": [
    "def submission(reddit,before,after):\n",
    "    api = PushshiftAPI()\n",
    "    subreddit = reddit\n",
    "    # convert start_datetime & end_datetime into epoch timestamps\n",
    "    epoch = datetime(1970, 1, 1)   \n",
    "    #set parameters for Pushshift\n",
    "    before = int((datetime.strptime(before, \"%d/%m/%Y %H:%M:%S\") - epoch).total_seconds())\n",
    "    after= int((datetime.strptime(after, \"%d/%m/%Y %H:%M:%S\") - epoch).total_seconds())\n",
    "    limit = 7000\n",
    "    rate_limit = 100\n",
    "    max_sleep = 60\n",
    "    \n",
    "    data = api.search_submissions(subreddit=subreddit, limit=limit, before=before, after=after, rate_limit=rate_limit, max_sleep=max_sleep)\n",
    "    df = pd.DataFrame(data)\n",
    "    # select the required columns\n",
    "    df = df[['id', 'full_link', 'author', 'created_utc', 'subreddit', 'selftext', 'title', 'num_comments', 'score']]\n",
    "    #convert epoch to readable timestamp\n",
    "    df['created_utc'] = pd.to_datetime(df['created_utc'],unit='s')\n",
    "    return df"
   ]
  },
  {
   "cell_type": "code",
   "execution_count": 10,
   "id": "39c11727",
   "metadata": {},
   "outputs": [
    {
     "data": {
      "text/plain": [
       "(8000, 9)"
      ]
     },
     "execution_count": 10,
     "metadata": {},
     "output_type": "execute_result"
    }
   ],
   "source": [
    "stock_df = submission('wallstreetbets','06/03/2022 00:00:00','06/09/2021 00:00:00')\n",
    "stock_df.shape"
   ]
  },
  {
   "cell_type": "code",
   "execution_count": 11,
   "id": "949b4ffe",
   "metadata": {},
   "outputs": [
    {
     "name": "stderr",
     "output_type": "stream",
     "text": [
      "Not all PushShift shards are active. Query results may be incomplete.\n",
      "Not all PushShift shards are active. Query results may be incomplete.\n",
      "Not all PushShift shards are active. Query results may be incomplete.\n",
      "Not all PushShift shards are active. Query results may be incomplete.\n",
      "Not all PushShift shards are active. Query results may be incomplete.\n"
     ]
    },
    {
     "data": {
      "text/plain": [
       "(8000, 9)"
      ]
     },
     "execution_count": 11,
     "metadata": {},
     "output_type": "execute_result"
    }
   ],
   "source": [
    "stock_df2 = submission('wallstreetbets','05/09/2021 00:00:00','06/09/2020 00:00:00')\n",
    "stock_df2.shape"
   ]
  },
  {
   "cell_type": "code",
   "execution_count": 12,
   "id": "a45c1b51",
   "metadata": {},
   "outputs": [],
   "source": [
    "cmb_stock = stock_df.append(stock_df2)"
   ]
  },
  {
   "cell_type": "code",
   "execution_count": 13,
   "id": "03a3b13b",
   "metadata": {},
   "outputs": [],
   "source": [
    "cmb_stock.to_csv('../project_3/data/stock.csv')"
   ]
  },
  {
   "cell_type": "code",
   "execution_count": 16,
   "id": "36c50d39",
   "metadata": {},
   "outputs": [
    {
     "data": {
      "text/plain": [
       "(7000, 9)"
      ]
     },
     "execution_count": 16,
     "metadata": {},
     "output_type": "execute_result"
    }
   ],
   "source": [
    "sci_df = submission('science','06/03/2022 00:00:00','06/09/2021 00:00:00')\n",
    "sci_df.shape"
   ]
  },
  {
   "cell_type": "code",
   "execution_count": 17,
   "id": "578dd7ba",
   "metadata": {},
   "outputs": [
    {
     "name": "stderr",
     "output_type": "stream",
     "text": [
      "Not all PushShift shards are active. Query results may be incomplete.\n",
      "Not all PushShift shards are active. Query results may be incomplete.\n",
      "Not all PushShift shards are active. Query results may be incomplete.\n",
      "Not all PushShift shards are active. Query results may be incomplete.\n",
      "Not all PushShift shards are active. Query results may be incomplete.\n"
     ]
    },
    {
     "data": {
      "text/plain": [
       "(7000, 9)"
      ]
     },
     "execution_count": 17,
     "metadata": {},
     "output_type": "execute_result"
    }
   ],
   "source": [
    "sci_df2 = submission('science','05/09/2021 00:00:00','06/09/2020 00:00:00')\n",
    "sci_df2.shape"
   ]
  },
  {
   "cell_type": "code",
   "execution_count": 18,
   "id": "fc61097e",
   "metadata": {},
   "outputs": [],
   "source": [
    "cmb_sci = sci_df.append(sci_df2)"
   ]
  },
  {
   "cell_type": "code",
   "execution_count": 19,
   "id": "199e796a",
   "metadata": {},
   "outputs": [],
   "source": [
    "cmb_sci.to_csv('../project_3/data/science.csv')"
   ]
  },
  {
   "cell_type": "code",
   "execution_count": null,
   "id": "a02345eb",
   "metadata": {},
   "outputs": [],
   "source": []
  }
 ],
 "metadata": {
  "kernelspec": {
   "display_name": "Python 3",
   "language": "python",
   "name": "python3"
  }
 },
 "nbformat": 4,
 "nbformat_minor": 5
}
