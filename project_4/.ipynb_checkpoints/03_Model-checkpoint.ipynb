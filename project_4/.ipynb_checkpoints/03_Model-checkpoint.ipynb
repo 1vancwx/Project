{
 "cells": [
  {
   "cell_type": "markdown",
   "metadata": {
    "cell_id": "f8f76d06-57b2-4294-8b4a-019dcaecea07",
    "deepnote_cell_height": 546.640625,
    "deepnote_cell_type": "markdown",
    "tags": []
   },
   "source": [
    "### Problem Statement \n",
    "\n",
    "Our team aims to build a classifier model to predict presence of West Nile Virus in Chicago supporting the Chicago Department of Public Health in its efforts to prevent West Nile Virus, enabling the Chicago Department of Public Health to redirect its resources to the appropriate infected areas and lower the number of human infections.\n",
    "\n",
    "\n",
    "While the AUC-ROC score will be important for the team while submitting through Kaggle, one of the main priorities of this project was to also focus on the false negatives. False negatives happens when the model gives a wrong prediction of the not having the west nile virus when in actual fact, the west nile virus is present. It will be vital to minimize the cases with false negatives as the resources will not be directed to those in need if the model is not predicting it correctly. As such, we will also have to prioritise the recall - how accurate the model is in identifying west nile virus.\n",
    "\n",
    "As such, we will be evaluating our models by optimising these two areas:\n",
    "\n",
    "ROC-AUC score\n",
    "Recall score\n",
    "\n",
    "- 1.0 Baseline model\n",
    "- 2.0 Logistic Regression (baseline model)\n",
    "- 3.0 RidgeClassifier with oversampling (SMOTE)\n",
    "- 4.0 Coefficients from RidgeClassifier\n",
    "- 5.0 Deep Learning using TensorFlow\n",
    "- 6.0 Pipeline and Gridsearch Execution\n",
    "- 7.0 Summary"
   ]
  },
  {
   "cell_type": "code",
   "execution_count": 1,
   "metadata": {
    "cell_id": "b02b5e8f0c134b8e9f86c7ca12c22962",
    "deepnote_cell_height": 117,
    "deepnote_cell_type": "code",
    "deepnote_to_be_reexecuted": false,
    "execution_millis": 45,
    "execution_start": 1650127016707,
    "source_hash": "7c66430b",
    "tags": []
   },
   "outputs": [],
   "source": [
    "#!pip install imblearn\n",
    "#!pip install xgboost \n",
    "#!pip install lightgbm"
   ]
  },
  {
   "cell_type": "code",
   "execution_count": 2,
   "metadata": {
    "cell_id": "00002-931de3a5-8788-4ce1-98e7-827a38ff4b87",
    "deepnote_cell_height": 603,
    "deepnote_cell_type": "code",
    "deepnote_to_be_reexecuted": false,
    "execution_millis": 3804,
    "execution_start": 1650127016752,
    "source_hash": "bd9f4ddc",
    "tags": []
   },
   "outputs": [
    {
     "name": "stderr",
     "output_type": "stream",
     "text": [
      "C:\\Users\\ivan.cho\\Anaconda3\\lib\\site-packages\\numpy\\_distributor_init.py:30: UserWarning: loaded more than 1 DLL from .libs:\n",
      "C:\\Users\\ivan.cho\\Anaconda3\\lib\\site-packages\\numpy\\.libs\\libopenblas.EL2C6PLE4ZYW3ECEVIV3OXXGRN2NRFM2.gfortran-win_amd64.dll\n",
      "C:\\Users\\ivan.cho\\Anaconda3\\lib\\site-packages\\numpy\\.libs\\libopenblas.NOIJJG62EMASZI6NYURL6JBKM4EVBGM7.gfortran-win_amd64.dll\n",
      "  warnings.warn(\"loaded more than 1 DLL from .libs:\"\n"
     ]
    }
   ],
   "source": [
    "#import packages\n",
    "import timeit\n",
    "import pandas as pd\n",
    "import matplotlib.pyplot as plt\n",
    "import seaborn as sns\n",
    "\n",
    "from imblearn.pipeline import Pipeline\n",
    "\n",
    "from sklearn.model_selection import train_test_split, StratifiedKFold, GridSearchCV\n",
    "from sklearn.metrics import confusion_matrix, plot_confusion_matrix, roc_auc_score,plot_roc_curve\n",
    "from sklearn.metrics import classification_report\n",
    "from sklearn.metrics import f1_score, precision_score, recall_score, accuracy_score\n",
    "    \n",
    "from imblearn.over_sampling import SMOTE\n",
    "from sklearn.preprocessing import StandardScaler\n",
    "from sklearn.linear_model import LogisticRegression, RidgeClassifier, SGDClassifier\n",
    "from sklearn.ensemble import RandomForestClassifier,GradientBoostingClassifier, ExtraTreesClassifier, AdaBoostClassifier \n",
    "from sklearn.feature_selection import SelectKBest, f_classif\n",
    "from sklearn.decomposition import PCA\n",
    "\n",
    "from tensorflow.keras.optimizers import Adam, SGD\n",
    "from keras.models import Sequential\n",
    "from keras.layers import Dense, Dropout\n",
    "from keras.utils import np_utils\n",
    "from tensorflow.keras.utils import to_categorical\n",
    "from tensorflow.keras.callbacks import EarlyStopping\n",
    "\n",
    "from xgboost import XGBClassifier\n",
    "from lightgbm import LGBMClassifier\n"
   ]
  },
  {
   "cell_type": "code",
   "execution_count": 3,
   "metadata": {
    "cell_id": "00003-128edd18-dbf7-4e4b-9754-08dfcaf4f19d",
    "deepnote_cell_height": 153,
    "deepnote_cell_type": "code",
    "deepnote_to_be_reexecuted": false,
    "execution_millis": 2626,
    "execution_start": 1650127020559,
    "source_hash": "bc9f1802",
    "tags": []
   },
   "outputs": [],
   "source": [
    "#load the data that has been preprocessed\n",
    "\n",
    "df_train = pd.read_csv(\"./data/train_modelready.csv\")\n",
    "df_predict = pd.read_csv(\"./data/test_modelready.csv\")\n"
   ]
  },
  {
   "cell_type": "code",
   "execution_count": 4,
   "metadata": {
    "cell_id": "00004-894caa16-335d-4e9d-9e5b-789b6fcf4753",
    "deepnote_cell_height": 130.1875,
    "deepnote_cell_type": "code",
    "deepnote_to_be_reexecuted": false,
    "execution_millis": 3,
    "execution_start": 1650127023191,
    "source_hash": "364cebd5"
   },
   "outputs": [
    {
     "name": "stdout",
     "output_type": "stream",
     "text": [
      "Train : (8610, 364)  Predict : (116293, 364)\n"
     ]
    }
   ],
   "source": [
    "#check the shape\n",
    "print(\"Train :\", df_train.shape, \" Predict :\", df_predict.shape)"
   ]
  },
  {
   "cell_type": "code",
   "execution_count": 5,
   "metadata": {
    "cell_id": "00005-500411ee-c909-4561-a75f-44f6c90ee410",
    "deepnote_cell_height": 136,
    "deepnote_cell_type": "code",
    "deepnote_output_heights": [
     21
    ],
    "deepnote_to_be_reexecuted": false,
    "execution_millis": 9,
    "execution_start": 1650127023199,
    "source_hash": "4b654acc"
   },
   "outputs": [
    {
     "data": {
      "text/plain": [
       "0"
      ]
     },
     "execution_count": 5,
     "metadata": {},
     "output_type": "execute_result"
    }
   ],
   "source": [
    "#validate there is no null\n",
    "df_train.isnull().sum().sum()"
   ]
  },
  {
   "cell_type": "markdown",
   "metadata": {
    "cell_id": "00007-68d51cdf-6e28-4cd0-8241-b214c8394830",
    "deepnote_cell_height": 70,
    "deepnote_cell_type": "markdown"
   },
   "source": [
    "## 1.0 Baseline model"
   ]
  },
  {
   "cell_type": "code",
   "execution_count": 6,
   "metadata": {
    "cell_id": "00008-a0abb99d-cfea-453a-bbc9-992087fe337e",
    "deepnote_cell_height": 157,
    "deepnote_cell_type": "code",
    "deepnote_output_heights": [
     60
    ],
    "deepnote_to_be_reexecuted": false,
    "execution_millis": 4,
    "execution_start": 1650127023248,
    "source_hash": "b9869939"
   },
   "outputs": [
    {
     "data": {
      "text/plain": [
       "0.0    0.946922\n",
       "1.0    0.053078\n",
       "Name: WnvPresent, dtype: float64"
      ]
     },
     "execution_count": 6,
     "metadata": {},
     "output_type": "execute_result"
    }
   ],
   "source": [
    "df_train['WnvPresent'].value_counts(normalize=True)"
   ]
  },
  {
   "cell_type": "markdown",
   "metadata": {
    "cell_id": "00009-38cccbc7-943a-4b3c-a847-d672987e79e2",
    "deepnote_cell_height": 52.390625,
    "deepnote_cell_type": "markdown"
   },
   "source": [
    "***Our negative class is (WNV is not present) is 95%, we have imbalance dataset***"
   ]
  },
  {
   "cell_type": "code",
   "execution_count": 7,
   "metadata": {
    "cell_id": "00007-2f4aaffa-df90-48a3-99d6-c6335be5386c",
    "deepnote_cell_height": 117,
    "deepnote_cell_type": "code",
    "deepnote_to_be_reexecuted": false,
    "execution_millis": 0,
    "execution_start": 1650127023249,
    "source_hash": "262e349d",
    "tags": []
   },
   "outputs": [],
   "source": [
    "#Define X, and Y\n",
    "X=df_train.drop(columns=['WnvPresent'])\n",
    "y=df_train['WnvPresent']"
   ]
  },
  {
   "cell_type": "code",
   "execution_count": 8,
   "metadata": {
    "cell_id": "00008-d474d550-05e0-4d4d-8eba-9448dc96ccd4",
    "deepnote_cell_height": 186.375,
    "deepnote_cell_type": "code",
    "deepnote_to_be_reexecuted": false,
    "execution_millis": 48,
    "execution_start": 1650127023250,
    "source_hash": "5d0fcd4b",
    "tags": []
   },
   "outputs": [
    {
     "name": "stdout",
     "output_type": "stream",
     "text": [
      "Train split : (6457, 363) (6457,)\n",
      "Test split : (2153, 363) (2153,)\n"
     ]
    }
   ],
   "source": [
    "#Train, Test, Split\n",
    "X_train, X_test, y_train, y_test = train_test_split(X,y, stratify=y, shuffle=True, random_state=42)\n",
    "print(\"Train split :\", X_train.shape, y_train.shape)\n",
    "print(\"Test split :\", X_test.shape, y_test.shape)"
   ]
  },
  {
   "cell_type": "code",
   "execution_count": 9,
   "metadata": {
    "cell_id": "00014-1bfd97df-a61a-4bd1-8778-a7b80cebffa2",
    "deepnote_cell_height": 153,
    "deepnote_cell_type": "code",
    "deepnote_to_be_reexecuted": false,
    "execution_millis": 13,
    "execution_start": 1650127023293,
    "source_hash": "abb15ffc"
   },
   "outputs": [],
   "source": [
    "#let's scale our X \n",
    "\n",
    "sc = StandardScaler()\n",
    "X_train_scaled = sc.fit_transform(X_train)\n",
    "X_test_scaled = sc.transform(X_test)"
   ]
  },
  {
   "cell_type": "markdown",
   "metadata": {
    "cell_id": "00010-212c9d9a-618f-4ddd-a6c8-06df184d0075",
    "deepnote_cell_height": 62,
    "deepnote_cell_type": "markdown",
    "tags": []
   },
   "source": [
    "### 2.0 Logistic Regression (baseline model)"
   ]
  },
  {
   "cell_type": "code",
   "execution_count": 10,
   "metadata": {
    "cell_id": "00011-d43b6ca0-f2a4-4fae-b398-6ba7854e5d75",
    "deepnote_cell_height": 136,
    "deepnote_cell_type": "code",
    "deepnote_output_heights": [
     21
    ],
    "deepnote_to_be_reexecuted": false,
    "execution_millis": 1395,
    "execution_start": 1650127023351,
    "source_hash": "d30f0a9b",
    "tags": []
   },
   "outputs": [
    {
     "data": {
      "text/plain": [
       "LogisticRegression(max_iter=10000, random_state=42)"
      ]
     },
     "execution_count": 10,
     "metadata": {},
     "output_type": "execute_result"
    }
   ],
   "source": [
    "lr = LogisticRegression(random_state = 42,max_iter=10000)\n",
    "lr.fit(X_train_scaled, y_train)"
   ]
  },
  {
   "cell_type": "code",
   "execution_count": 11,
   "metadata": {
    "cell_id": "00013-856d5232-d7fc-4c14-bb24-9bfd300ebb0b",
    "deepnote_cell_height": 99,
    "deepnote_cell_type": "code",
    "deepnote_to_be_reexecuted": false,
    "execution_millis": 109911,
    "execution_start": 1650127024308,
    "source_hash": "5a867b86",
    "tags": []
   },
   "outputs": [],
   "source": [
    "#predict test dataset\n",
    "y_preds = lr.predict(X_test_scaled)"
   ]
  },
  {
   "cell_type": "code",
   "execution_count": 12,
   "metadata": {
    "cell_id": "00014-86360f11-883c-4759-bb7e-0fece752dc0d",
    "deepnote_cell_height": 501.375,
    "deepnote_cell_type": "code",
    "deepnote_output_heights": [
     null,
     21,
     264
    ],
    "deepnote_to_be_reexecuted": false,
    "execution_millis": 535,
    "execution_start": 1650127024314,
    "source_hash": "a6508d4",
    "tags": []
   },
   "outputs": [
    {
     "data": {
      "text/plain": [
       "<sklearn.metrics._plot.confusion_matrix.ConfusionMatrixDisplay at 0x18f6cee1ee0>"
      ]
     },
     "execution_count": 12,
     "metadata": {},
     "output_type": "execute_result"
    },
    {
     "data": {
      "image/png": "[encoded data removed]",
      "text/plain": [
       "<Figure size 432x288 with 2 Axes>"
      ]
     },
     "metadata": {
      "needs_background": "light"
     },
     "output_type": "display_data"
    }
   ],
   "source": [
    "#confusion matrix \n",
    "plot_confusion_matrix(lr, X_test_scaled, y_test)"
   ]
  },
  {
   "cell_type": "code",
   "execution_count": 13,
   "metadata": {
    "cell_id": "f036ef471def458d89559b4e1d09d333",
    "deepnote_cell_height": 148.1875,
    "deepnote_cell_type": "code",
    "deepnote_to_be_reexecuted": false,
    "execution_millis": 161,
    "execution_start": 1650127024689,
    "source_hash": "aa862d26",
    "tags": []
   },
   "outputs": [
    {
     "name": "stdout",
     "output_type": "stream",
     "text": [
      "2037 2 114 0\n"
     ]
    }
   ],
   "source": [
    "#confusion matrix details\n",
    "tn, fp, fn, tp = confusion_matrix(y_test, y_preds).ravel()\n",
    "print(tn, fp, fn, tp )"
   ]
  },
  {
   "cell_type": "code",
   "execution_count": 14,
   "metadata": {
    "cell_id": "00020-e0d94a14-c671-42a8-820e-1459ed99548a",
    "deepnote_cell_height": 273.6875,
    "deepnote_cell_type": "code",
    "deepnote_to_be_reexecuted": false,
    "execution_millis": 113,
    "execution_start": 1650127024738,
    "source_hash": "3e9be938"
   },
   "outputs": [
    {
     "name": "stdout",
     "output_type": "stream",
     "text": [
      "              precision    recall  f1-score   support\n",
      "\n",
      "         0.0       0.95      1.00      0.97      2039\n",
      "         1.0       0.00      0.00      0.00       114\n",
      "\n",
      "    accuracy                           0.95      2153\n",
      "   macro avg       0.47      0.50      0.49      2153\n",
      "weighted avg       0.90      0.95      0.92      2153\n",
      "\n"
     ]
    }
   ],
   "source": [
    "print(classification_report(y_test, y_preds))"
   ]
  },
  {
   "cell_type": "code",
   "execution_count": 15,
   "metadata": {
    "cell_id": "00021-971c2e8f-057e-4f29-9355-4053d72ca32c",
    "deepnote_cell_height": 150.375,
    "deepnote_cell_type": "code",
    "deepnote_to_be_reexecuted": false,
    "execution_millis": 108,
    "execution_start": 1650127024743,
    "owner_user_id": "fef48698-3d9d-40d4-8a7d-fc8139e69b81",
    "source_hash": "e11b2328"
   },
   "outputs": [
    {
     "name": "stdout",
     "output_type": "stream",
     "text": [
      "Train Score:  0.9468793557379588 Test Score:  0.9461216906641895\n",
      "ROC_AUC Score:  0.49950956351152526\n"
     ]
    }
   ],
   "source": [
    "print('Train Score: ', lr.score(X_train_scaled, y_train), 'Test Score: ', lr.score(X_test_scaled, y_test))\n",
    "print('ROC_AUC Score: ', roc_auc_score(y_test, y_preds.ravel()))"
   ]
  },
  {
   "cell_type": "markdown",
   "metadata": {
    "cell_id": "00022-d806abd8-b1fb-46cf-a20e-de7a461cd09d",
    "deepnote_cell_height": 133.5625,
    "deepnote_cell_type": "markdown"
   },
   "source": [
    "The logistic regression model will act as our baseline model of which which any results that falls below baseline model results will be rejected.We will be optimising for ROC-AUC and recall for this project and our baseline ROC-AUC score is 49.95% ROC-AUC.\n",
    "\n",
    "If you look at the confusion matrix, the model was only able to accurately predict only 5 positive case. This is because we have imbalance dataset. Hence we will be using SMOTE for future models."
   ]
  },
  {
   "cell_type": "markdown",
   "metadata": {
    "cell_id": "00017-379829ed-22c8-427f-9ef2-69dbeec719c6",
    "deepnote_cell_height": 132.390625,
    "deepnote_cell_type": "markdown",
    "tags": []
   },
   "source": [
    "### 3.0  Oversampling using SMOTE ( Synthetic Minority Oversampling Technique)\n",
    "To addressed imbalanced dataset we will use SMOTE, and build a RidgeClassifier model"
   ]
  },
  {
   "cell_type": "code",
   "execution_count": 16,
   "metadata": {
    "cell_id": "00018-eead2e57-05df-46d0-beef-7a3ee8ced743",
    "deepnote_cell_height": 112.1875,
    "deepnote_cell_type": "code",
    "deepnote_to_be_reexecuted": false,
    "execution_millis": 70,
    "execution_start": 1650127024781,
    "source_hash": "47ae7bc7",
    "tags": []
   },
   "outputs": [
    {
     "name": "stdout",
     "output_type": "stream",
     "text": [
      "Positive Class before SMOTE 5.3120644262041194  %\n"
     ]
    }
   ],
   "source": [
    "print('Positive Class before SMOTE', sum(y_train)/len(y_train) * 100, ' %')"
   ]
  },
  {
   "cell_type": "code",
   "execution_count": 17,
   "metadata": {
    "cell_id": "00019-99b7be19-b746-488d-8f45-8d5141a4c3b7",
    "deepnote_cell_height": 258.375,
    "deepnote_cell_type": "code",
    "deepnote_to_be_reexecuted": false,
    "execution_millis": 124,
    "execution_start": 1650127024794,
    "source_hash": "105e38d4",
    "tags": []
   },
   "outputs": [
    {
     "name": "stdout",
     "output_type": "stream",
     "text": [
      "(12228, 363) (12228,)\n",
      "Positive Class with SMOTE 50.0  %\n"
     ]
    }
   ],
   "source": [
    "#oversampling\n",
    "\n",
    "smote = SMOTE()\n",
    "X_smote, y_smote = smote.fit_resample(X_train_scaled, y_train)\n",
    "\n",
    "print(X_smote.shape, y_smote.shape)\n",
    "print('Positive Class with SMOTE', sum(y_smote)/len(y_smote) * 100, ' %')\n"
   ]
  },
  {
   "cell_type": "code",
   "execution_count": 18,
   "metadata": {
    "cell_id": "00020-b95a9c8f-a1f1-4648-8422-9e0701d2c51e",
    "deepnote_cell_height": 172,
    "deepnote_cell_type": "code",
    "deepnote_output_heights": [
     21
    ],
    "deepnote_to_be_reexecuted": false,
    "execution_millis": 129,
    "execution_start": 1650127024977,
    "source_hash": "d572c6a4",
    "tags": []
   },
   "outputs": [
    {
     "data": {
      "text/plain": [
       "RidgeClassifier(random_state=42)"
      ]
     },
     "execution_count": 18,
     "metadata": {},
     "output_type": "execute_result"
    }
   ],
   "source": [
    "#use RidgeClassifier to take advnatage of regularization\n",
    "\n",
    "ridge = RidgeClassifier(random_state = 42)\n",
    "ridge.fit(X_smote, y_smote)"
   ]
  },
  {
   "cell_type": "code",
   "execution_count": 19,
   "metadata": {
    "cell_id": "00022-5e2a0719-7ca9-42a0-a520-a164450e65bf",
    "deepnote_cell_height": 99,
    "deepnote_cell_type": "code",
    "deepnote_to_be_reexecuted": false,
    "execution_millis": 3,
    "execution_start": 1650127025109,
    "source_hash": "1b3f997c",
    "tags": []
   },
   "outputs": [],
   "source": [
    "#predict test dataset\n",
    "y_preds = ridge.predict(X_test_scaled)"
   ]
  },
  {
   "cell_type": "code",
   "execution_count": 20,
   "metadata": {
    "cell_id": "00023-14ec665f-7afe-423a-be57-56c44f4fed8e",
    "deepnote_cell_height": 449.375,
    "deepnote_cell_type": "code",
    "deepnote_output_heights": [
     null,
     264
    ],
    "deepnote_to_be_reexecuted": false,
    "execution_millis": 278,
    "execution_start": 1650127025179,
    "source_hash": "9202d539",
    "tags": []
   },
   "outputs": [
    {
     "data": {
      "image/png": "[encoded data removed]",
      "text/plain": [
       "<Figure size 432x288 with 2 Axes>"
      ]
     },
     "metadata": {
      "needs_background": "light"
     },
     "output_type": "display_data"
    }
   ],
   "source": [
    "#confusion matrix\n",
    "plot_confusion_matrix(ridge, X_test_scaled, y_test);"
   ]
  },
  {
   "cell_type": "code",
   "execution_count": 21,
   "metadata": {
    "cell_id": "00024-a4d60f2c-44de-4eed-8873-a7a194823971",
    "deepnote_cell_height": 130.1875,
    "deepnote_cell_type": "code",
    "deepnote_to_be_reexecuted": false,
    "execution_millis": 5,
    "execution_start": 1650127025514,
    "source_hash": "c6358bdd",
    "tags": []
   },
   "outputs": [
    {
     "name": "stdout",
     "output_type": "stream",
     "text": [
      "1519 520 34 80\n"
     ]
    }
   ],
   "source": [
    "tn, fp, fn, tp = confusion_matrix(y_test, y_preds).ravel()\n",
    "print(tn, fp, fn, tp )"
   ]
  },
  {
   "cell_type": "code",
   "execution_count": 22,
   "metadata": {
    "cell_id": "00030-555b471b-2259-403f-8ab6-c0d6a295f41c",
    "deepnote_cell_height": 273.6875,
    "deepnote_cell_type": "code",
    "deepnote_to_be_reexecuted": false,
    "execution_millis": 4,
    "execution_start": 1650127025515,
    "source_hash": "3e9be938"
   },
   "outputs": [
    {
     "name": "stdout",
     "output_type": "stream",
     "text": [
      "              precision    recall  f1-score   support\n",
      "\n",
      "         0.0       0.98      0.74      0.85      2039\n",
      "         1.0       0.13      0.70      0.22       114\n",
      "\n",
      "    accuracy                           0.74      2153\n",
      "   macro avg       0.56      0.72      0.53      2153\n",
      "weighted avg       0.93      0.74      0.81      2153\n",
      "\n"
     ]
    }
   ],
   "source": [
    "print(classification_report(y_test, y_preds))"
   ]
  },
  {
   "cell_type": "code",
   "execution_count": 23,
   "metadata": {
    "cell_id": "00031-8f2f9c27-7cb3-49d3-a1c2-d6d5d44ad1b7",
    "deepnote_cell_height": 150.375,
    "deepnote_cell_type": "code",
    "deepnote_to_be_reexecuted": false,
    "execution_millis": 4,
    "execution_start": 1650127025516,
    "source_hash": "56533b05"
   },
   "outputs": [
    {
     "name": "stdout",
     "output_type": "stream",
     "text": [
      "Train Score:  0.7659903980176552 Test Score:  0.7426846261031119\n",
      "ROC_AUC Score:  0.723363705979023\n"
     ]
    }
   ],
   "source": [
    "print('Train Score: ', ridge.score(X_train_scaled, y_train), 'Test Score: ', ridge.score(X_test_scaled, y_test))\n",
    "print('ROC_AUC Score: ', roc_auc_score(y_test, y_preds.ravel()))"
   ]
  },
  {
   "cell_type": "markdown",
   "metadata": {
    "cell_id": "00032-b0f05190-c057-49d7-a8fc-d5b034456cca",
    "deepnote_cell_height": 128.171875,
    "deepnote_cell_type": "markdown"
   },
   "source": [
    "***This is much better version where we use SMOTE and Ridge for regularizing our features***\n",
    "- Baseline model, ROC is 50%\n",
    "- Ridge w SMOTE, ROC is 72%"
   ]
  },
  {
   "cell_type": "markdown",
   "metadata": {
    "cell_id": "00033-839a7ffd-df1b-4f4f-a47f-609a762551ae",
    "deepnote_cell_height": 70,
    "deepnote_cell_type": "markdown"
   },
   "source": [
    "## 4.0 Coefficients (RidgeClassifier model)"
   ]
  },
  {
   "cell_type": "code",
   "execution_count": 24,
   "metadata": {
    "cell_id": "92dcccbf67024ad994e642bd5b7df5c3",
    "deepnote_cell_height": 117,
    "deepnote_cell_type": "code",
    "deepnote_to_be_reexecuted": false,
    "execution_millis": 55,
    "execution_start": 1650127025521,
    "source_hash": "31efd950",
    "tags": []
   },
   "outputs": [],
   "source": [
    "# calculating coefficients\n",
    "coeff = pd.DataFrame(X_train.columns)\n",
    "coeff['Coefficient Estimate'] = pd.Series(ridge.coef_.tolist()[0])"
   ]
  },
  {
   "cell_type": "code",
   "execution_count": 25,
   "metadata": {
    "cell_id": "00035-377c0c14-970a-4dc1-8fee-f1195e3618bf",
    "deepnote_cell_height": 291.6875,
    "deepnote_cell_type": "code",
    "deepnote_to_be_reexecuted": false,
    "execution_millis": 8,
    "execution_start": 1650127025590,
    "source_hash": "68d9a62"
   },
   "outputs": [
    {
     "name": "stdout",
     "output_type": "stream",
     "text": [
      "<class 'pandas.core.frame.DataFrame'>\n",
      "RangeIndex: 363 entries, 0 to 362\n",
      "Data columns (total 2 columns):\n",
      " #   Column                Non-Null Count  Dtype  \n",
      "---  ------                --------------  -----  \n",
      " 0   Feature               363 non-null    object \n",
      " 1   Coefficient Estimate  363 non-null    float64\n",
      "dtypes: float64(1), object(1)\n",
      "memory usage: 5.8+ KB\n"
     ]
    }
   ],
   "source": [
    "coeff.rename(columns={0:\"Feature\"}, inplace=True)\n",
    "coeff.info()"
   ]
  },
  {
   "cell_type": "code",
   "execution_count": 26,
   "metadata": {
    "cell_id": "00036-da717bba-8b50-42b7-b7c0-780e90d12b0f",
    "deepnote_cell_height": 171,
    "deepnote_cell_type": "code",
    "deepnote_to_be_reexecuted": false,
    "execution_millis": 6,
    "execution_start": 1650127025605,
    "source_hash": "b1c9ae3b"
   },
   "outputs": [],
   "source": [
    "#we will use this for sorting\n",
    "coeff['abs_val'] = abs(coeff['Coefficient Estimate'])\n",
    "\n",
    "#top 50 features\n",
    "coeff_50 = coeff.sort_values(by='abs_val',ascending=False)[:50]\n"
   ]
  },
  {
   "cell_type": "code",
   "execution_count": 27,
   "metadata": {
    "cell_id": "00037-e8c0ed00-c873-4f04-8637-e216a31ca2f2",
    "deepnote_cell_height": 725,
    "deepnote_cell_type": "code",
    "deepnote_output_heights": [
     592
    ],
    "deepnote_to_be_reexecuted": false,
    "execution_millis": 1852,
    "execution_start": 1650127025616,
    "source_hash": "148e5745"
   },
   "outputs": [
    {
     "data": {
      "image/png": "[encoded data removed]",
      "text/plain": [
       "<Figure size 720x720 with 1 Axes>"
      ]
     },
     "metadata": {
      "needs_background": "light"
     },
     "output_type": "display_data"
    }
   ],
   "source": [
    "#our top 50 coefficient using RidgeClassifier\n",
    "coeff_50.sort_values(by='abs_val').plot(y='Coefficient Estimate',x='Feature',kind='barh', figsize=(10,10), color='b', \n",
    "                                  title='Top 50 - LR');"
   ]
  },
  {
   "cell_type": "markdown",
   "metadata": {
    "cell_id": "00038-e0e18276-969b-47c3-9a5f-b4bdc717edbd",
    "deepnote_cell_height": 74.78125,
    "deepnote_cell_type": "markdown"
   },
   "source": [
    "Most of the featured engineer appeared in the top coefficient even though they did not have a high correlation with WnvPresent in the previous notebook."
   ]
  },
  {
   "cell_type": "markdown",
   "metadata": {
    "cell_id": "00044-5c278482-fd8f-4bb3-9863-db33d323cd0b",
    "deepnote_cell_height": 122.78125,
    "deepnote_cell_type": "markdown"
   },
   "source": [
    "### 5.0 Deep Learning using TensorFlow - Keras\n",
    "\n",
    "In this section, we will explore deep learning and how the model weigh up with the simple models we built prior. We will use tensorflow with regularization, dropout and early stop."
   ]
  },
  {
   "cell_type": "code",
   "execution_count": 28,
   "metadata": {
    "cell_id": "00045-744e0d88-1026-4c6c-92fc-787203b90eb2",
    "deepnote_cell_height": 315,
    "deepnote_cell_type": "code",
    "deepnote_to_be_reexecuted": false,
    "execution_millis": 146,
    "execution_start": 1650127027043,
    "source_hash": "5dccacab"
   },
   "outputs": [],
   "source": [
    "#Define X, and Y\n",
    "X=df_train.drop(columns=['WnvPresent'])\n",
    "y=df_train['WnvPresent']\n",
    "\n",
    "#Train, Test, Split\n",
    "X_train, X_test, y_train, y_test = train_test_split(X,y, stratify=y, shuffle=True)\n",
    "\n",
    "sc = StandardScaler()\n",
    "X_train_scaled = sc.fit_transform(X_train)\n",
    "X_test_scaled = sc.transform(X_test)\n",
    "\n",
    "smote = SMOTE()\n",
    "X_smote, y_smote = smote.fit_resample(X_train_scaled, y_train)\n"
   ]
  },
  {
   "cell_type": "code",
   "execution_count": 29,
   "metadata": {
    "cell_id": "00046-8a381120-75e7-47ab-8b56-2b65f0eb4cd5",
    "deepnote_cell_height": 1295,
    "deepnote_cell_type": "code",
    "deepnote_to_be_reexecuted": false,
    "execution_millis": 14655,
    "execution_start": 1650127027190,
    "source_hash": "eeaeb1af"
   },
   "outputs": [
    {
     "name": "stdout",
     "output_type": "stream",
     "text": [
      "Model: \"sequential\"\n",
      "_________________________________________________________________\n",
      " Layer (type)                Output Shape              Param #   \n",
      "=================================================================\n",
      " dense (Dense)               (None, 300)               109200    \n",
      "                                                                 \n",
      " dense_1 (Dense)             (None, 100)               30100     \n",
      "                                                                 \n",
      " dense_2 (Dense)             (None, 80)                8080      \n",
      "                                                                 \n",
      " dropout (Dropout)           (None, 80)                0         \n",
      "                                                                 \n",
      " dense_3 (Dense)             (None, 50)                4050      \n",
      "                                                                 \n",
      " dense_4 (Dense)             (None, 20)                1020      \n",
      "                                                                 \n",
      " dense_5 (Dense)             (None, 1)                 21        \n",
      "                                                                 \n",
      "=================================================================\n",
      "Total params: 152,471\n",
      "Trainable params: 152,471\n",
      "Non-trainable params: 0\n",
      "_________________________________________________________________\n",
      "Epoch 1/100\n",
      "24/24 [==============================] - 5s 53ms/step - loss: 2.9762 - accuracy: 0.7003 - val_loss: 2.1231 - val_accuracy: 0.7431\n",
      "Epoch 2/100\n",
      "24/24 [==============================] - 0s 16ms/step - loss: 1.5445 - accuracy: 0.8550 - val_loss: 1.1812 - val_accuracy: 0.8114\n",
      "Epoch 3/100\n",
      "24/24 [==============================] - 1s 23ms/step - loss: 0.8671 - accuracy: 0.8970 - val_loss: 0.8081 - val_accuracy: 0.8258\n",
      "Epoch 4/100\n",
      "24/24 [==============================] - 0s 17ms/step - loss: 0.5537 - accuracy: 0.9221 - val_loss: 0.6257 - val_accuracy: 0.8653\n",
      "Epoch 5/100\n",
      "24/24 [==============================] - 0s 16ms/step - loss: 0.4198 - accuracy: 0.9342 - val_loss: 0.5663 - val_accuracy: 0.8695\n",
      "Epoch 6/100\n",
      "24/24 [==============================] - 0s 20ms/step - loss: 0.3522 - accuracy: 0.9403 - val_loss: 0.5215 - val_accuracy: 0.8783\n",
      "Epoch 7/100\n",
      "24/24 [==============================] - 0s 19ms/step - loss: 0.3082 - accuracy: 0.9476 - val_loss: 0.5123 - val_accuracy: 0.8741\n",
      "Epoch 8/100\n",
      "24/24 [==============================] - 1s 24ms/step - loss: 0.2840 - accuracy: 0.9502 - val_loss: 0.5329 - val_accuracy: 0.8723\n",
      "Epoch 9/100\n",
      "24/24 [==============================] - 1s 26ms/step - loss: 0.2591 - accuracy: 0.9527 - val_loss: 0.5117 - val_accuracy: 0.8848\n",
      "Epoch 10/100\n",
      "24/24 [==============================] - 0s 14ms/step - loss: 0.2477 - accuracy: 0.9539 - val_loss: 0.4637 - val_accuracy: 0.8936\n",
      "Epoch 11/100\n",
      "24/24 [==============================] - 0s 16ms/step - loss: 0.2399 - accuracy: 0.9522 - val_loss: 0.4673 - val_accuracy: 0.8969\n",
      "Epoch 12/100\n",
      "24/24 [==============================] - 0s 16ms/step - loss: 0.2295 - accuracy: 0.9541 - val_loss: 0.4728 - val_accuracy: 0.8969\n",
      "Epoch 13/100\n",
      "24/24 [==============================] - 0s 16ms/step - loss: 0.2184 - accuracy: 0.9562 - val_loss: 0.4903 - val_accuracy: 0.8820\n",
      "Epoch 14/100\n",
      "24/24 [==============================] - 0s 17ms/step - loss: 0.2072 - accuracy: 0.9590 - val_loss: 0.4727 - val_accuracy: 0.8932\n",
      "Epoch 15/100\n",
      "24/24 [==============================] - 0s 16ms/step - loss: 0.1987 - accuracy: 0.9595 - val_loss: 0.4784 - val_accuracy: 0.8936\n",
      "Epoch 16/100\n",
      "24/24 [==============================] - 0s 18ms/step - loss: 0.1941 - accuracy: 0.9609 - val_loss: 0.4981 - val_accuracy: 0.9020\n",
      "Epoch 17/100\n",
      "24/24 [==============================] - 0s 16ms/step - loss: 0.1958 - accuracy: 0.9581 - val_loss: 0.4700 - val_accuracy: 0.8922\n",
      "Epoch 18/100\n",
      "24/24 [==============================] - 1s 25ms/step - loss: 0.1927 - accuracy: 0.9598 - val_loss: 0.4679 - val_accuracy: 0.8960\n",
      "Epoch 19/100\n",
      "24/24 [==============================] - 0s 15ms/step - loss: 0.1870 - accuracy: 0.9605 - val_loss: 0.4627 - val_accuracy: 0.8987\n",
      "Epoch 20/100\n",
      "24/24 [==============================] - 0s 17ms/step - loss: 0.1807 - accuracy: 0.9616 - val_loss: 0.4978 - val_accuracy: 0.8881\n",
      "Epoch 21/100\n",
      "24/24 [==============================] - 0s 17ms/step - loss: 0.1781 - accuracy: 0.9616 - val_loss: 0.4978 - val_accuracy: 0.8960\n",
      "Epoch 22/100\n",
      "24/24 [==============================] - 0s 16ms/step - loss: 0.1773 - accuracy: 0.9621 - val_loss: 0.4625 - val_accuracy: 0.8983\n",
      "Epoch 23/100\n",
      "24/24 [==============================] - 0s 16ms/step - loss: 0.1689 - accuracy: 0.9642 - val_loss: 0.4807 - val_accuracy: 0.8941\n",
      "Epoch 24/100\n",
      "24/24 [==============================] - 0s 16ms/step - loss: 0.1746 - accuracy: 0.9610 - val_loss: 0.4901 - val_accuracy: 0.9015\n",
      "Epoch 25/100\n",
      "24/24 [==============================] - 0s 17ms/step - loss: 0.1674 - accuracy: 0.9631 - val_loss: 0.4947 - val_accuracy: 0.9048\n",
      "Epoch 26/100\n",
      "24/24 [==============================] - 0s 16ms/step - loss: 0.1653 - accuracy: 0.9630 - val_loss: 0.4927 - val_accuracy: 0.8992\n",
      "Epoch 27/100\n",
      "24/24 [==============================] - 0s 16ms/step - loss: 0.1598 - accuracy: 0.9652 - val_loss: 0.4960 - val_accuracy: 0.8950\n",
      "Epoch 28/100\n",
      "24/24 [==============================] - 0s 17ms/step - loss: 0.1598 - accuracy: 0.9642 - val_loss: 0.4903 - val_accuracy: 0.8908\n",
      "Epoch 29/100\n",
      "24/24 [==============================] - 0s 17ms/step - loss: 0.1511 - accuracy: 0.9643 - val_loss: 0.5335 - val_accuracy: 0.8927\n",
      "Epoch 30/100\n",
      "24/24 [==============================] - 0s 16ms/step - loss: 0.1502 - accuracy: 0.9669 - val_loss: 0.5433 - val_accuracy: 0.8755\n",
      "Epoch 31/100\n",
      "24/24 [==============================] - 0s 16ms/step - loss: 0.1521 - accuracy: 0.9646 - val_loss: 0.4937 - val_accuracy: 0.8922\n",
      "Epoch 32/100\n",
      "24/24 [==============================] - 1s 29ms/step - loss: 0.1479 - accuracy: 0.9658 - val_loss: 0.4973 - val_accuracy: 0.8955\n",
      "Epoch 33/100\n",
      "24/24 [==============================] - 0s 19ms/step - loss: 0.1460 - accuracy: 0.9660 - val_loss: 0.5105 - val_accuracy: 0.8890\n",
      "Epoch 34/100\n",
      "24/24 [==============================] - 0s 15ms/step - loss: 0.1474 - accuracy: 0.9653 - val_loss: 0.5273 - val_accuracy: 0.8927\n",
      "Epoch 35/100\n",
      "24/24 [==============================] - 0s 16ms/step - loss: 0.1466 - accuracy: 0.9659 - val_loss: 0.4982 - val_accuracy: 0.8853\n",
      "Epoch 36/100\n",
      "24/24 [==============================] - 0s 16ms/step - loss: 0.1497 - accuracy: 0.9637 - val_loss: 0.4672 - val_accuracy: 0.8946\n",
      "Epoch 37/100\n",
      "24/24 [==============================] - 0s 16ms/step - loss: 0.1415 - accuracy: 0.9677 - val_loss: 0.4921 - val_accuracy: 0.8955\n",
      "Epoch 38/100\n",
      "24/24 [==============================] - 1s 23ms/step - loss: 0.1450 - accuracy: 0.9662 - val_loss: 0.5368 - val_accuracy: 0.8974\n",
      "Epoch 39/100\n",
      "24/24 [==============================] - 0s 14ms/step - loss: 0.1444 - accuracy: 0.9651 - val_loss: 0.4539 - val_accuracy: 0.9029\n",
      "Epoch 40/100\n",
      "24/24 [==============================] - 0s 15ms/step - loss: 0.1444 - accuracy: 0.9658 - val_loss: 0.5043 - val_accuracy: 0.8983\n",
      "Epoch 41/100\n",
      "24/24 [==============================] - 0s 16ms/step - loss: 0.1403 - accuracy: 0.9665 - val_loss: 0.5278 - val_accuracy: 0.8843\n",
      "Epoch 42/100\n",
      "24/24 [==============================] - 0s 21ms/step - loss: 0.1393 - accuracy: 0.9663 - val_loss: 0.5035 - val_accuracy: 0.8983\n",
      "Epoch 43/100\n",
      "24/24 [==============================] - 0s 16ms/step - loss: 0.1389 - accuracy: 0.9653 - val_loss: 0.4810 - val_accuracy: 0.9034\n",
      "Epoch 44/100\n",
      "24/24 [==============================] - 1s 22ms/step - loss: 0.1370 - accuracy: 0.9669 - val_loss: 0.5151 - val_accuracy: 0.8950\n",
      "Epoch 45/100\n",
      "24/24 [==============================] - 0s 17ms/step - loss: 0.1383 - accuracy: 0.9650 - val_loss: 0.4956 - val_accuracy: 0.9020\n",
      "Epoch 46/100\n",
      "24/24 [==============================] - 0s 17ms/step - loss: 0.1369 - accuracy: 0.9674 - val_loss: 0.4889 - val_accuracy: 0.9006\n",
      "Epoch 47/100\n",
      "24/24 [==============================] - 0s 18ms/step - loss: 0.1368 - accuracy: 0.9662 - val_loss: 0.4959 - val_accuracy: 0.8978\n",
      "Epoch 48/100\n",
      "24/24 [==============================] - 0s 16ms/step - loss: 0.1333 - accuracy: 0.9665 - val_loss: 0.4974 - val_accuracy: 0.8978\n"
     ]
    },
    {
     "name": "stdout",
     "output_type": "stream",
     "text": [
      "Epoch 49/100\n",
      "24/24 [==============================] - 0s 14ms/step - loss: 0.1364 - accuracy: 0.9664 - val_loss: 0.5018 - val_accuracy: 0.8946\n",
      "Epoch 50/100\n",
      "24/24 [==============================] - 0s 17ms/step - loss: 0.1313 - accuracy: 0.9678 - val_loss: 0.5009 - val_accuracy: 0.9039\n",
      "Epoch 51/100\n",
      "24/24 [==============================] - 0s 16ms/step - loss: 0.1328 - accuracy: 0.9663 - val_loss: 0.5110 - val_accuracy: 0.8974\n",
      "Epoch 52/100\n",
      "24/24 [==============================] - 0s 16ms/step - loss: 0.1293 - accuracy: 0.9692 - val_loss: 0.5313 - val_accuracy: 0.8941\n",
      "Epoch 53/100\n",
      "24/24 [==============================] - 0s 16ms/step - loss: 0.1280 - accuracy: 0.9680 - val_loss: 0.5190 - val_accuracy: 0.8960\n",
      "Epoch 54/100\n",
      "24/24 [==============================] - 0s 17ms/step - loss: 0.1269 - accuracy: 0.9684 - val_loss: 0.5278 - val_accuracy: 0.8922\n",
      "Epoch 55/100\n",
      "24/24 [==============================] - 0s 17ms/step - loss: 0.1264 - accuracy: 0.9684 - val_loss: 0.5020 - val_accuracy: 0.8890\n",
      "Epoch 56/100\n",
      "24/24 [==============================] - 1s 28ms/step - loss: 0.1258 - accuracy: 0.9685 - val_loss: 0.5223 - val_accuracy: 0.8950\n",
      "Epoch 57/100\n",
      "24/24 [==============================] - 0s 19ms/step - loss: 0.1273 - accuracy: 0.9666 - val_loss: 0.5463 - val_accuracy: 0.8992\n",
      "Epoch 58/100\n",
      "24/24 [==============================] - 0s 16ms/step - loss: 0.1289 - accuracy: 0.9668 - val_loss: 0.5361 - val_accuracy: 0.9020\n",
      "Epoch 59/100\n",
      "24/24 [==============================] - 0s 17ms/step - loss: 0.1254 - accuracy: 0.9694 - val_loss: 0.5133 - val_accuracy: 0.9020\n",
      "Epoch 60/100\n",
      "24/24 [==============================] - 0s 16ms/step - loss: 0.1240 - accuracy: 0.9693 - val_loss: 0.5023 - val_accuracy: 0.8960\n",
      "Epoch 61/100\n",
      "24/24 [==============================] - 0s 16ms/step - loss: 0.1224 - accuracy: 0.9685 - val_loss: 0.5628 - val_accuracy: 0.8946\n",
      "Epoch 62/100\n",
      "24/24 [==============================] - 1s 22ms/step - loss: 0.1242 - accuracy: 0.9691 - val_loss: 0.5268 - val_accuracy: 0.9006\n",
      "Epoch 63/100\n",
      "24/24 [==============================] - 0s 21ms/step - loss: 0.1222 - accuracy: 0.9697 - val_loss: 0.5429 - val_accuracy: 0.8904\n",
      "Epoch 64/100\n",
      "24/24 [==============================] - 1s 27ms/step - loss: 0.1234 - accuracy: 0.9678 - val_loss: 0.5275 - val_accuracy: 0.8955\n",
      "Epoch 65/100\n",
      "24/24 [==============================] - 0s 16ms/step - loss: 0.1224 - accuracy: 0.9685 - val_loss: 0.5323 - val_accuracy: 0.8950\n",
      "Epoch 66/100\n",
      "24/24 [==============================] - 0s 17ms/step - loss: 0.1218 - accuracy: 0.9695 - val_loss: 0.5576 - val_accuracy: 0.9001\n",
      "Epoch 67/100\n",
      "24/24 [==============================] - 0s 16ms/step - loss: 0.1254 - accuracy: 0.9693 - val_loss: 0.5212 - val_accuracy: 0.8987\n",
      "Epoch 68/100\n",
      "24/24 [==============================] - 0s 20ms/step - loss: 0.1277 - accuracy: 0.9675 - val_loss: 0.4897 - val_accuracy: 0.8950\n",
      "Epoch 69/100\n",
      "24/24 [==============================] - 0s 18ms/step - loss: 0.1203 - accuracy: 0.9697 - val_loss: 0.5410 - val_accuracy: 0.8983\n"
     ]
    }
   ],
   "source": [
    "from tensorflow.keras.regularizers import l2\n",
    "\n",
    "model = Sequential()\n",
    "n_input = X_smote.shape[1]\n",
    "model.add(Dense(300, # How many nodes/neurons do you want in your first layer.\n",
    "                input_shape=(n_input,),\n",
    "                activation='relu',\n",
    "               kernel_regularizer=l2(0.01)))  #we proved that having regularizer improves our model\n",
    "model.add(Dense(100, activation='relu'))\n",
    "model.add(Dense(80, activation='relu'))\n",
    "model.add(Dropout(0.5))\n",
    "model.add(Dense(50, activation='relu'))\n",
    "model.add(Dense(20, activation='relu'))\n",
    "model.add(Dense(1, activation='sigmoid'))\n",
    "model.summary()\n",
    "\n",
    "# Compile\n",
    "opt = Adam(learning_rate=0.001)\n",
    "model.compile(loss='binary_crossentropy', optimizer=opt, metrics=['accuracy'])\n",
    "\n",
    "# Model Fit\n",
    "early_stop = EarlyStopping(monitor='val_loss', \n",
    "                           min_delta=0, \n",
    "                           patience=30, \n",
    "                           mode='auto')\n",
    "\n",
    "history = model.fit(\n",
    "    X_smote,\n",
    "    y_smote,\n",
    "    validation_data=(X_test_scaled, y_test),\n",
    "    epochs=100,\n",
    "    batch_size=512,\n",
    "    callbacks=[early_stop] # Add your callbacks here!\n",
    ")"
   ]
  },
  {
   "cell_type": "code",
   "execution_count": 30,
   "metadata": {
    "cell_id": "00047-55b122bb-11e1-4707-8ae2-8cb125ca1383",
    "deepnote_cell_height": 136.1875,
    "deepnote_cell_type": "code",
    "deepnote_output_heights": [
     21.1875
    ],
    "deepnote_to_be_reexecuted": false,
    "execution_millis": 18,
    "execution_start": 1650127041827,
    "source_hash": "8c6db6be"
   },
   "outputs": [
    {
     "data": {
      "text/plain": [
       "(0.9696598052978516, 0.898281455039978)"
      ]
     },
     "execution_count": 30,
     "metadata": {},
     "output_type": "execute_result"
    }
   ],
   "source": [
    "\n",
    "history.history['accuracy'][-1], history.history['val_accuracy'][-1]"
   ]
  },
  {
   "cell_type": "code",
   "execution_count": 31,
   "metadata": {
    "cell_id": "00048-c2df51a0-cc87-444c-8d8e-6c203d2e8af3",
    "deepnote_cell_height": 383,
    "deepnote_cell_type": "code",
    "deepnote_output_heights": [
     250
    ],
    "deepnote_to_be_reexecuted": false,
    "execution_millis": 6823,
    "execution_start": 1650127041828,
    "source_hash": "3f619895"
   },
   "outputs": [
    {
     "data": {
      "image/png": "[encoded data removed]",
      "text/plain": [
       "<Figure size 432x288 with 1 Axes>"
      ]
     },
     "metadata": {
      "needs_background": "light"
     },
     "output_type": "display_data"
    }
   ],
   "source": [
    "plt.plot(history.history['accuracy'], label='Train accuracy')\n",
    "plt.plot(history.history['val_accuracy'], label='Val accuracy')\n",
    "plt.legend();"
   ]
  },
  {
   "cell_type": "code",
   "execution_count": 32,
   "metadata": {
    "cell_id": "00049-c4417f3b-a6bb-44a7-aa6b-3f0074c57313",
    "deepnote_cell_height": 723,
    "deepnote_cell_type": "code",
    "deepnote_output_heights": [
     482
    ],
    "deepnote_to_be_reexecuted": false,
    "execution_millis": 197,
    "execution_start": 1650127048692,
    "source_hash": "bf0704fa"
   },
   "outputs": [
    {
     "data": {
      "image/png": "[encoded data removed]",
      "text/plain": [
       "<Figure size 864x576 with 1 Axes>"
      ]
     },
     "metadata": {
      "needs_background": "light"
     },
     "output_type": "display_data"
    }
   ],
   "source": [
    "train_loss = history.history['loss']\n",
    "test_loss = history.history['val_loss']\n",
    "\n",
    "plt.figure(figsize=(12, 8))\n",
    "plt.plot(train_loss, label='Training loss')\n",
    "plt.plot(test_loss, label='Testing loss')\n",
    "plt.xlabel('Epoch')\n",
    "plt.ylabel('Loss')\n",
    "plt.legend();"
   ]
  },
  {
   "cell_type": "code",
   "execution_count": 33,
   "metadata": {
    "cell_id": "00050-f1e615bc-64d7-4da9-814b-63a1a7a0912a",
    "deepnote_cell_height": 130.1875,
    "deepnote_cell_type": "code",
    "deepnote_to_be_reexecuted": false,
    "execution_millis": 196,
    "execution_start": 1650127048888,
    "source_hash": "cff43e10"
   },
   "outputs": [
    {
     "name": "stdout",
     "output_type": "stream",
     "text": [
      "Keras ROC_AUC score : 0.6191782177365925\n"
     ]
    }
   ],
   "source": [
    "pred = model.predict(X_test_scaled).round()\n",
    "print('Keras ROC_AUC score :', roc_auc_score(y_test, pred.ravel()))"
   ]
  },
  {
   "cell_type": "markdown",
   "metadata": {
    "cell_id": "00051-1a401f44-02c5-4081-9d3a-313883ba4006",
    "deepnote_cell_height": 104.390625,
    "deepnote_cell_type": "markdown"
   },
   "source": [
    "*** ROC-AUC of Ridge is 72% compared to 62% from tensorflow *** <br>\n",
    "Thus, we will reject Tensorflow model."
   ]
  },
  {
   "cell_type": "markdown",
   "metadata": {
    "cell_id": "00052-bc7ccc10-baa1-44e0-b389-b1f692d92d64",
    "deepnote_cell_height": 94,
    "deepnote_cell_type": "markdown"
   },
   "source": [
    "###  6.0 In this section, we will formally create pipeline to evaluate several models using GridSearch"
   ]
  },
  {
   "cell_type": "code",
   "execution_count": 34,
   "metadata": {
    "cell_id": "00053-ec3a9600-77f0-45ca-b7dc-145c0c8611a4",
    "deepnote_cell_height": 189,
    "deepnote_cell_type": "code",
    "deepnote_to_be_reexecuted": false,
    "execution_millis": 15,
    "execution_start": 1650127049092,
    "source_hash": "8f05dcce"
   },
   "outputs": [],
   "source": [
    "#Define X, and Y\n",
    "X=df_train.drop(columns=['WnvPresent'])\n",
    "y=df_train['WnvPresent']\n",
    "\n",
    "#Train, Test, Split\n",
    "X_train, X_test, y_train, y_test = train_test_split(X,y, stratify=y, shuffle=True)\n"
   ]
  },
  {
   "cell_type": "code",
   "execution_count": 38,
   "metadata": {
    "cell_id": "00054-d40baeba-4efb-4c40-896f-e12729a98ba2",
    "deepnote_cell_height": 1899,
    "deepnote_cell_type": "code",
    "deepnote_to_be_reexecuted": false,
    "execution_millis": 0,
    "execution_start": 1650127049117,
    "source_hash": "700f520f"
   },
   "outputs": [],
   "source": [
    "# Logistic Regression\n",
    "logreg = LogisticRegression(\n",
    "    solver='liblinear',\n",
    "    max_iter=1000, \n",
    "    random_state=42,\n",
    ")\n",
    "\n",
    "logreg_params = {\n",
    "    'clf__penalty': ['l1', 'l2'],\n",
    "    'clf__C': [0.1, 0.5, 1, 1.5, 2.5]\n",
    "}\n",
    "\n",
    "# Gradient Boost\n",
    "gb = GradientBoostingClassifier(random_state=42)\n",
    "gb_params = {\n",
    "    'clf__learning_rate': [0.05, 0.1, 0.15],\n",
    "    'clf__max_depth': [2, 3,4]\n",
    "}\n",
    "\n",
    "# Random Forest\n",
    "rf = RandomForestClassifier(random_state=42, n_jobs=-1)\n",
    "rf_params = {\n",
    "    'clf__n_estimators': [100, 150, 200],\n",
    "    'clf__max_depth': [4, 5, 6]\n",
    "}\n",
    "\n",
    "# Extra Trees\n",
    "et = ExtraTreesClassifier(random_state=42, n_jobs=-1)\n",
    "et_params = {\n",
    "    'clf__n_estimators': [50, 75, 100],\n",
    "    'clf__max_depth': [4, 5, 6]\n",
    "}\n",
    "\n",
    "#Ada Boost Classifier\n",
    "ada = AdaBoostClassifier()\n",
    "ada_params = {\n",
    "    'clf__n_estimators':[50,100,150], \n",
    "    'clf__learning_rate':[1,0.1,0.01]\n",
    "}\n",
    "\n",
    "#Ridge\n",
    "\n",
    "ridge = RidgeClassifier()\n",
    "ridge_params = {'clf__random_state' : [42]}\n",
    "\n",
    "sgd = SGDClassifier(loss='log', max_iter=1000, random_state=1)\n",
    "sgd_params = {\n",
    "    'clf__penalty': ['l1', 'l2', 'elasticnet'],\n",
    "    'clf__alpha':[.0001, .001, .01],\n",
    "    'clf__l1_ratio':[.01,.05,.15],\n",
    "}\n",
    "# XGBoost\n",
    "xgb = XGBClassifier(\n",
    "    use_label_encoder=False,\n",
    "    eval_metric='auc',\n",
    "    objective='binary:logistic',\n",
    "    random_state=42,\n",
    "    n_jobs=-1\n",
    ")\n",
    "\n",
    "xgb_params = { \n",
    "    'clf__max_depth': [3, 4,5], #Depth of tree (higher value implies likely overfit)\n",
    "    'clf__gamma' : [0.1, 0.2 , 0.3], #Min loss reduction required for further partition\n",
    "    'clf__learning_rate' : [0.1, 0.2], #step size feature weight shrinkage\n",
    "}\n",
    "\n",
    "#LightGBM\n",
    "lgbm = LGBMClassifier()\n",
    "\n",
    "lgbm_params = {\n",
    "    'clf__learning_rate': [0.01,0.1],\n",
    "    'clf__n_estimators': [24,32],\n",
    "    'clf__num_leaves': [16,24,32], # large num_leaves helps improve accuracy but might lead to over-fitting\n",
    "    'clf__boosting_type' : ['gbdt'], \n",
    "    'clf__objective' : ['binary'],\n",
    "    'clf__max_bin':[255], # large max_bin helps improve accuracy but might slow down training progress\n",
    "    'clf__random_state' : [500,1500],\n",
    "    'clf__colsample_bytree' : [0.65,0.8],\n",
    "    'clf__subsample' : [0.7,0.8],\n",
    "    'clf__reg_alpha' : [1.2,1.6],\n",
    "    'clf__reg_lambda' : [1.4,1.6]\n",
    "    }\n",
    "\n",
    "#Ada Boost Classifier\n",
    "ada = AdaBoostClassifier()\n",
    "\n",
    "ada_params = {\n",
    "    'clf__n_estimators':[50,150], \n",
    "    'clf__learning_rate':[1,0.1,0.01]\n",
    "}\n",
    "# List of classifiers & params\n",
    "classifiers = [\n",
    "    (ridge, ridge_params),\n",
    "    (logreg, logreg_params),\n",
    "    (gb, gb_params),\n",
    "    (rf, rf_params),\n",
    "    (et, et_params),\n",
    "    (ada, ada_params),\n",
    "    (sgd, sgd_params),\n",
    "    (xgb, xgb_params),\n",
    "    (lgbm, lgbm_params)\n",
    "]"
   ]
  },
  {
   "cell_type": "code",
   "execution_count": 39,
   "metadata": {
    "cell_id": "00055-e18f6ebe-c3b9-44dc-906a-43d0c69f44ce",
    "deepnote_cell_height": 1071,
    "deepnote_cell_type": "code",
    "deepnote_to_be_reexecuted": false,
    "execution_millis": 5,
    "execution_start": 1650127049135,
    "source_hash": "14ae049a"
   },
   "outputs": [],
   "source": [
    "def model(clf, clf_params):\n",
    "    \n",
    "    start = timeit.timeit()\n",
    "\n",
    "    pipe = Pipeline(steps = [\n",
    "                      ('ss', StandardScaler()),\n",
    "                      ('sm', SMOTE(random_state = 42)), \n",
    "                      ('clf', clf)])\n",
    "\n",
    "    \n",
    "    # Gridsearch for best estimator\n",
    "    grid = GridSearchCV(\n",
    "        pipe,\n",
    "        param_grid=clf_params,\n",
    "        scoring='roc_auc',\n",
    "        verbose=2,\n",
    "        n_jobs=-1\n",
    "    )\n",
    "    grid.fit(X_train,y_train)\n",
    "    \n",
    "    print(f'Classifier: {clf}')\n",
    "    print('Best Parameters:')\n",
    "    print(grid.best_params_)\n",
    "    \n",
    "    \n",
    "    filename= f\"{clf}\"[0:10]\n",
    "    \n",
    "    # Scoring metrics\n",
    "    scores = {'Classifier': clf}\n",
    "    y_train_preds = grid.predict(X_train)\n",
    "    y_test_preds = grid.predict(X_test)\n",
    "   \n",
    "    scores['Train ROC-AUC Score'] = roc_auc_score(y_train, y_train_preds.ravel())\n",
    "    \n",
    "    end = timeit.timeit()\n",
    "\n",
    "    #for Test\n",
    "    scores['Test ROC-AUC Score'] = roc_auc_score(y_test, y_test_preds.ravel())\n",
    "    scores['F1'] = f1_score(y_test, y_test_preds)\n",
    "    scores['Precision'] = precision_score(y_test, y_test_preds)\n",
    "    scores['Recall'] = recall_score(y_test, y_test_preds)\n",
    "    scores['Accuracy'] = accuracy_score(y_test, y_test_preds)\n",
    "    scores['Time'] = end - start\n",
    "    \n",
    "    # Storing results\n",
    "    result.append(scores)\n",
    "    \n",
    "    #predicting and export to csv for kaggle submission \n",
    "    pred_csv = grid.predict(df_predict.drop(columns=[\"Id\"]))\n",
    "    pred_submit = pd.DataFrame(pred_csv, columns=['WnvPresent'])\n",
    "    pred_submit['Id'] = df_predict[\"Id\"].astype(int)\n",
    "\n",
    "\n",
    "    pred_submit[[\"Id\", 'WnvPresent']].to_csv(f\"./data/Submission/{filename}.csv\", index=False)\n",
    "\n",
    "    return pipe"
   ]
  },
  {
   "cell_type": "code",
   "execution_count": 40,
   "metadata": {
    "cell_id": "00056-95c7625d-b35d-4995-8cf8-a464303f90f1",
    "deepnote_cell_height": 773,
    "deepnote_cell_type": "code",
    "deepnote_to_be_reexecuted": false,
    "execution_millis": 2462880,
    "execution_start": 1650127049140,
    "source_hash": "1e3867f2"
   },
   "outputs": [
    {
     "name": "stdout",
     "output_type": "stream",
     "text": [
      "Fitting 5 folds for each of 1 candidates, totalling 5 fits\n"
     ]
    },
    {
     "name": "stderr",
     "output_type": "stream",
     "text": [
      "[Parallel(n_jobs=-1)]: Using backend LokyBackend with 8 concurrent workers.\n",
      "[Parallel(n_jobs=-1)]: Done   2 out of   5 | elapsed:    0.8s remaining:    1.3s\n",
      "[Parallel(n_jobs=-1)]: Done   5 out of   5 | elapsed:   12.8s remaining:    0.0s\n",
      "[Parallel(n_jobs=-1)]: Done   5 out of   5 | elapsed:   12.8s finished\n"
     ]
    },
    {
     "name": "stdout",
     "output_type": "stream",
     "text": [
      "Classifier: RidgeClassifier()\n",
      "Best Parameters:\n",
      "{'clf__random_state': 42}\n",
      "Fitting 5 folds for each of 10 candidates, totalling 50 fits\n"
     ]
    },
    {
     "name": "stderr",
     "output_type": "stream",
     "text": [
      "[Parallel(n_jobs=-1)]: Using backend LokyBackend with 8 concurrent workers.\n",
      "[Parallel(n_jobs=-1)]: Done  25 tasks      | elapsed:   51.7s\n",
      "[Parallel(n_jobs=-1)]: Done  50 out of  50 | elapsed:  2.2min finished\n"
     ]
    },
    {
     "name": "stdout",
     "output_type": "stream",
     "text": [
      "Classifier: LogisticRegression(max_iter=1000, random_state=42, solver='liblinear')\n",
      "Best Parameters:\n",
      "{'clf__C': 0.1, 'clf__penalty': 'l1'}\n",
      "Fitting 5 folds for each of 9 candidates, totalling 45 fits\n"
     ]
    },
    {
     "name": "stderr",
     "output_type": "stream",
     "text": [
      "[Parallel(n_jobs=-1)]: Using backend LokyBackend with 8 concurrent workers.\n",
      "[Parallel(n_jobs=-1)]: Done  25 tasks      | elapsed:  5.4min\n",
      "[Parallel(n_jobs=-1)]: Done  45 out of  45 | elapsed:  8.8min finished\n"
     ]
    },
    {
     "name": "stdout",
     "output_type": "stream",
     "text": [
      "Classifier: GradientBoostingClassifier(random_state=42)\n",
      "Best Parameters:\n",
      "{'clf__learning_rate': 0.15, 'clf__max_depth': 3}\n",
      "Fitting 5 folds for each of 9 candidates, totalling 45 fits\n"
     ]
    },
    {
     "name": "stderr",
     "output_type": "stream",
     "text": [
      "[Parallel(n_jobs=-1)]: Using backend LokyBackend with 8 concurrent workers.\n",
      "[Parallel(n_jobs=-1)]: Done  25 tasks      | elapsed:   19.5s\n",
      "[Parallel(n_jobs=-1)]: Done  45 out of  45 | elapsed:   37.2s finished\n"
     ]
    },
    {
     "name": "stdout",
     "output_type": "stream",
     "text": [
      "Classifier: RandomForestClassifier(n_jobs=-1, random_state=42)\n",
      "Best Parameters:\n",
      "{'clf__max_depth': 6, 'clf__n_estimators': 150}\n",
      "Fitting 5 folds for each of 9 candidates, totalling 45 fits\n"
     ]
    },
    {
     "name": "stderr",
     "output_type": "stream",
     "text": [
      "[Parallel(n_jobs=-1)]: Using backend LokyBackend with 8 concurrent workers.\n",
      "[Parallel(n_jobs=-1)]: Done  25 tasks      | elapsed:   18.1s\n",
      "[Parallel(n_jobs=-1)]: Done  45 out of  45 | elapsed:   27.9s finished\n"
     ]
    },
    {
     "name": "stdout",
     "output_type": "stream",
     "text": [
      "Classifier: ExtraTreesClassifier(n_jobs=-1, random_state=42)\n",
      "Best Parameters:\n",
      "{'clf__max_depth': 6, 'clf__n_estimators': 75}\n",
      "Fitting 5 folds for each of 6 candidates, totalling 30 fits\n"
     ]
    },
    {
     "name": "stderr",
     "output_type": "stream",
     "text": [
      "[Parallel(n_jobs=-1)]: Using backend LokyBackend with 8 concurrent workers.\n",
      "[Parallel(n_jobs=-1)]: Done  30 out of  30 | elapsed:  2.4min finished\n"
     ]
    },
    {
     "name": "stdout",
     "output_type": "stream",
     "text": [
      "Classifier: AdaBoostClassifier()\n",
      "Best Parameters:\n",
      "{'clf__learning_rate': 0.1, 'clf__n_estimators': 150}\n",
      "Fitting 5 folds for each of 27 candidates, totalling 135 fits\n"
     ]
    },
    {
     "name": "stderr",
     "output_type": "stream",
     "text": [
      "[Parallel(n_jobs=-1)]: Using backend LokyBackend with 8 concurrent workers.\n",
      "[Parallel(n_jobs=-1)]: Done  25 tasks      | elapsed:   26.8s\n",
      "[Parallel(n_jobs=-1)]: Done 135 out of 135 | elapsed:  1.8min finished\n"
     ]
    },
    {
     "name": "stdout",
     "output_type": "stream",
     "text": [
      "Classifier: SGDClassifier(loss='log', random_state=1)\n",
      "Best Parameters:\n",
      "{'clf__alpha': 0.01, 'clf__l1_ratio': 0.01, 'clf__penalty': 'l1'}\n",
      "Fitting 5 folds for each of 18 candidates, totalling 90 fits\n"
     ]
    },
    {
     "name": "stderr",
     "output_type": "stream",
     "text": [
      "[Parallel(n_jobs=-1)]: Using backend LokyBackend with 8 concurrent workers.\n",
      "[Parallel(n_jobs=-1)]: Done  25 tasks      | elapsed:  3.4min\n",
      "[Parallel(n_jobs=-1)]: Done  90 out of  90 | elapsed: 10.9min finished\n"
     ]
    },
    {
     "name": "stdout",
     "output_type": "stream",
     "text": [
      "[17:35:22] WARNING: C:\\Users\\Administrator\\workspace\\xgboost-win64_release_1.1.0\\src\\learner.cc:480: \n",
      "Parameters: { use_label_encoder } might not be used.\n",
      "\n",
      "  This may not be accurate due to some parameters are only used in language bindings but\n",
      "  passed down to XGBoost core.  Or some parameters are not used but slip through this\n",
      "  verification. Please open an issue if you find above cases.\n",
      "\n",
      "\n",
      "Classifier: XGBClassifier(base_score=None, booster=None, colsample_bylevel=None,\n",
      "              colsample_bynode=None, colsample_bytree=None, eval_metric='auc',\n",
      "              gamma=None, gpu_id=None, importance_type='gain',\n",
      "              interaction_constraints=None, learning_rate=None,\n",
      "              max_delta_step=None, max_depth=None, min_child_weight=None,\n",
      "              missing=nan, monotone_constraints=None, n_estimators=100,\n",
      "              n_jobs=-1, num_parallel_tree=None, random_state=42,\n",
      "              reg_alpha=None, reg_lambda=None, scale_pos_weight=None,\n",
      "              subsample=None, tree_method=None, use_label_encoder=False,\n",
      "              validate_parameters=None, verbosity=None)\n",
      "Best Parameters:\n",
      "{'clf__gamma': 0.1, 'clf__learning_rate': 0.1, 'clf__max_depth': 4}\n",
      "Fitting 5 folds for each of 384 candidates, totalling 1920 fits\n"
     ]
    },
    {
     "name": "stderr",
     "output_type": "stream",
     "text": [
      "[Parallel(n_jobs=-1)]: Using backend LokyBackend with 8 concurrent workers.\n",
      "[Parallel(n_jobs=-1)]: Done  25 tasks      | elapsed:   11.0s\n",
      "[Parallel(n_jobs=-1)]: Done 146 tasks      | elapsed:  1.1min\n",
      "[Parallel(n_jobs=-1)]: Done 349 tasks      | elapsed:  2.5min\n",
      "[Parallel(n_jobs=-1)]: Done 632 tasks      | elapsed:  4.7min\n",
      "[Parallel(n_jobs=-1)]: Done 997 tasks      | elapsed:  7.4min\n",
      "[Parallel(n_jobs=-1)]: Done 1442 tasks      | elapsed: 11.2min\n",
      "[Parallel(n_jobs=-1)]: Done 1920 out of 1920 | elapsed: 15.1min finished\n"
     ]
    },
    {
     "name": "stdout",
     "output_type": "stream",
     "text": [
      "Classifier: LGBMClassifier()\n",
      "Best Parameters:\n",
      "{'clf__boosting_type': 'gbdt', 'clf__colsample_bytree': 0.8, 'clf__learning_rate': 0.1, 'clf__max_bin': 255, 'clf__n_estimators': 32, 'clf__num_leaves': 32, 'clf__objective': 'binary', 'clf__random_state': 1500, 'clf__reg_alpha': 1.6, 'clf__reg_lambda': 1.6, 'clf__subsample': 0.7}\n"
     ]
    }
   ],
   "source": [
    "# Run through gridsearch for every model\n",
    "result = []\n",
    "\n",
    "for (clf, clf_params) in classifiers:\n",
    "    model(clf, clf_params)"
   ]
  },
  {
   "cell_type": "code",
   "execution_count": 41,
   "metadata": {
    "cell_id": "00057-5192edd2-56b3-4ef1-a92d-50d62172f615",
    "deepnote_cell_height": 577,
    "deepnote_cell_type": "code",
    "deepnote_to_be_reexecuted": false,
    "execution_millis": 114,
    "execution_start": 1650129512021,
    "source_hash": "55e0d1cb"
   },
   "outputs": [
    {
     "data": {
      "text/html": [
       "<div>\n",
       "<style scoped>\n",
       "    .dataframe tbody tr th:only-of-type {\n",
       "        vertical-align: middle;\n",
       "    }\n",
       "\n",
       "    .dataframe tbody tr th {\n",
       "        vertical-align: top;\n",
       "    }\n",
       "\n",
       "    .dataframe thead th {\n",
       "        text-align: right;\n",
       "    }\n",
       "</style>\n",
       "<table border=\"1\" class=\"dataframe\">\n",
       "  <thead>\n",
       "    <tr style=\"text-align: right;\">\n",
       "      <th></th>\n",
       "      <th>Classifier</th>\n",
       "      <th>Train ROC-AUC Score</th>\n",
       "      <th>Test ROC-AUC Score</th>\n",
       "      <th>F1</th>\n",
       "      <th>Precision</th>\n",
       "      <th>Recall</th>\n",
       "      <th>Accuracy</th>\n",
       "      <th>Time</th>\n",
       "    </tr>\n",
       "  </thead>\n",
       "  <tbody>\n",
       "    <tr>\n",
       "      <th>0</th>\n",
       "      <td>ExtraTreesClassifier(n_jobs=-1, random_state=42)</td>\n",
       "      <td>0.757345</td>\n",
       "      <td>0.783268</td>\n",
       "      <td>0.252324</td>\n",
       "      <td>0.148670</td>\n",
       "      <td>0.833333</td>\n",
       "      <td>0.738504</td>\n",
       "      <td>-0.004770</td>\n",
       "    </tr>\n",
       "    <tr>\n",
       "      <th>1</th>\n",
       "      <td>RandomForestClassifier(n_jobs=-1, random_state...</td>\n",
       "      <td>0.738019</td>\n",
       "      <td>0.778230</td>\n",
       "      <td>0.260745</td>\n",
       "      <td>0.155822</td>\n",
       "      <td>0.798246</td>\n",
       "      <td>0.760334</td>\n",
       "      <td>0.006264</td>\n",
       "    </tr>\n",
       "    <tr>\n",
       "      <th>2</th>\n",
       "      <td>AdaBoostClassifier()</td>\n",
       "      <td>0.730791</td>\n",
       "      <td>0.769514</td>\n",
       "      <td>0.264438</td>\n",
       "      <td>0.159926</td>\n",
       "      <td>0.763158</td>\n",
       "      <td>0.775197</td>\n",
       "      <td>-0.003342</td>\n",
       "    </tr>\n",
       "    <tr>\n",
       "      <th>3</th>\n",
       "      <td>LogisticRegression(max_iter=1000, random_state...</td>\n",
       "      <td>0.801999</td>\n",
       "      <td>0.755593</td>\n",
       "      <td>0.251108</td>\n",
       "      <td>0.150977</td>\n",
       "      <td>0.745614</td>\n",
       "      <td>0.764515</td>\n",
       "      <td>-0.011794</td>\n",
       "    </tr>\n",
       "    <tr>\n",
       "      <th>4</th>\n",
       "      <td>RidgeClassifier()</td>\n",
       "      <td>0.793014</td>\n",
       "      <td>0.745728</td>\n",
       "      <td>0.230464</td>\n",
       "      <td>0.135725</td>\n",
       "      <td>0.763158</td>\n",
       "      <td>0.730144</td>\n",
       "      <td>0.003924</td>\n",
       "    </tr>\n",
       "    <tr>\n",
       "      <th>5</th>\n",
       "      <td>SGDClassifier(loss='log', random_state=1)</td>\n",
       "      <td>0.763653</td>\n",
       "      <td>0.744502</td>\n",
       "      <td>0.228947</td>\n",
       "      <td>0.134675</td>\n",
       "      <td>0.763158</td>\n",
       "      <td>0.727822</td>\n",
       "      <td>-0.004216</td>\n",
       "    </tr>\n",
       "    <tr>\n",
       "      <th>6</th>\n",
       "      <td>LGBMClassifier()</td>\n",
       "      <td>0.675534</td>\n",
       "      <td>0.590522</td>\n",
       "      <td>0.230415</td>\n",
       "      <td>0.242718</td>\n",
       "      <td>0.219298</td>\n",
       "      <td>0.922434</td>\n",
       "      <td>0.024175</td>\n",
       "    </tr>\n",
       "    <tr>\n",
       "      <th>7</th>\n",
       "      <td>XGBClassifier(base_score=None, booster=None, c...</td>\n",
       "      <td>0.680235</td>\n",
       "      <td>0.580797</td>\n",
       "      <td>0.220000</td>\n",
       "      <td>0.255814</td>\n",
       "      <td>0.192982</td>\n",
       "      <td>0.927543</td>\n",
       "      <td>0.018631</td>\n",
       "    </tr>\n",
       "    <tr>\n",
       "      <th>8</th>\n",
       "      <td>GradientBoostingClassifier(random_state=42)</td>\n",
       "      <td>0.663083</td>\n",
       "      <td>0.573497</td>\n",
       "      <td>0.208333</td>\n",
       "      <td>0.256410</td>\n",
       "      <td>0.175439</td>\n",
       "      <td>0.929401</td>\n",
       "      <td>-0.032188</td>\n",
       "    </tr>\n",
       "  </tbody>\n",
       "</table>\n",
       "</div>"
      ],
      "text/plain": [
       "                                          Classifier  Train ROC-AUC Score  \\\n",
       "0   ExtraTreesClassifier(n_jobs=-1, random_state=42)             0.757345   \n",
       "1  RandomForestClassifier(n_jobs=-1, random_state...             0.738019   \n",
       "2                               AdaBoostClassifier()             0.730791   \n",
       "3  LogisticRegression(max_iter=1000, random_state...             0.801999   \n",
       "4                                  RidgeClassifier()             0.793014   \n",
       "5          SGDClassifier(loss='log', random_state=1)             0.763653   \n",
       "6                                   LGBMClassifier()             0.675534   \n",
       "7  XGBClassifier(base_score=None, booster=None, c...             0.680235   \n",
       "8        GradientBoostingClassifier(random_state=42)             0.663083   \n",
       "\n",
       "   Test ROC-AUC Score        F1  Precision    Recall  Accuracy      Time  \n",
       "0            0.783268  0.252324   0.148670  0.833333  0.738504 -0.004770  \n",
       "1            0.778230  0.260745   0.155822  0.798246  0.760334  0.006264  \n",
       "2            0.769514  0.264438   0.159926  0.763158  0.775197 -0.003342  \n",
       "3            0.755593  0.251108   0.150977  0.745614  0.764515 -0.011794  \n",
       "4            0.745728  0.230464   0.135725  0.763158  0.730144  0.003924  \n",
       "5            0.744502  0.228947   0.134675  0.763158  0.727822 -0.004216  \n",
       "6            0.590522  0.230415   0.242718  0.219298  0.922434  0.024175  \n",
       "7            0.580797  0.220000   0.255814  0.192982  0.927543  0.018631  \n",
       "8            0.573497  0.208333   0.256410  0.175439  0.929401 -0.032188  "
      ]
     },
     "execution_count": 41,
     "metadata": {},
     "output_type": "execute_result"
    }
   ],
   "source": [
    "# Results sorted by Test ROC-AUC\n",
    "pd.DataFrame(result).sort_values(by='Test ROC-AUC Score', ascending=False).reset_index(drop=True)"
   ]
  },
  {
   "cell_type": "markdown",
   "metadata": {
    "cell_id": "b61e1ae68cc74cefab5bc2a9596fc777",
    "deepnote_cell_height": 54,
    "deepnote_cell_type": "markdown",
    "tags": []
   },
   "source": [
    "#### If we choose 50% of best features, will the ROC-AUC improve? Adding SelectKBest in the pipeline"
   ]
  },
  {
   "cell_type": "code",
   "execution_count": 42,
   "metadata": {
    "cell_id": "78d72d5128d049b68745fd6d70e2a962",
    "deepnote_cell_height": 1035,
    "deepnote_cell_type": "code",
    "deepnote_to_be_reexecuted": false,
    "execution_millis": 0,
    "execution_start": 1650130484828,
    "source_hash": "85dbd35b",
    "tags": []
   },
   "outputs": [],
   "source": [
    "def model_kbest(clf, clf_params):\n",
    "    \n",
    "    start = timeit.timeit()\n",
    "\n",
    "    pipe = Pipeline(steps = [\n",
    "                      ('ss', StandardScaler()),\n",
    "                      ('sm', SMOTE(random_state = 42)), \n",
    "                      ('selector', SelectKBest(f_classif, k=200)),\n",
    "                      ('clf', clf)])\n",
    "\n",
    "    filename= f\"{clf}\"[0:10]\n",
    "\n",
    "    # Gridsearch for best estimator\n",
    "    grid = GridSearchCV(\n",
    "        pipe,\n",
    "        param_grid=clf_params,\n",
    "        scoring='roc_auc',\n",
    "        verbose=2,\n",
    "        n_jobs=-1\n",
    "    )\n",
    "    grid.fit(X_train,y_train)\n",
    "    \n",
    "    print(f'Classifier: {clf}')\n",
    "    print('Best Parameters:')\n",
    "    print(grid.best_params_)\n",
    "    \n",
    "    # Scoring metrics\n",
    "    scores = {'Classifier': clf}\n",
    "    y_train_preds = grid.predict(X_train)\n",
    "    y_test_preds = grid.predict(X_test)\n",
    "   \n",
    "    scores['Train ROC-AUC Score'] = roc_auc_score(y_train, y_train_preds.ravel())\n",
    "    \n",
    "    end = timeit.timeit()\n",
    "\n",
    "    #for Test\n",
    "    scores['Test ROC-AUC Score'] = roc_auc_score(y_test, y_test_preds.ravel())\n",
    "    scores['F1'] = f1_score(y_test, y_test_preds)\n",
    "    scores['Precision'] = precision_score(y_test, y_test_preds)\n",
    "    scores['Recall'] = recall_score(y_test, y_test_preds)\n",
    "    scores['Accuracy'] = accuracy_score(y_test, y_test_preds)\n",
    "    scores['Time'] = end - start\n",
    "\n",
    "    # Storing results\n",
    "    result.append(scores)\n",
    "    \n",
    "    #predicting and export to csv for kaggle submission \n",
    "    pred_csv = grid.predict(df_predict.drop(columns=[\"Id\"]))\n",
    "    pred_submit = pd.DataFrame(pred_csv, columns=['WnvPresent'])\n",
    "    pred_submit['Id'] = df_predict[\"Id\"].astype(int)\n",
    "\n",
    "    pred_submit[[\"Id\", 'WnvPresent']].to_csv(f\"/work/deepnote_exports/kbest_{filename}.csv\", index=False)\n",
    "\n",
    "    return pipe"
   ]
  },
  {
   "cell_type": "code",
   "execution_count": 43,
   "metadata": {
    "cell_id": "15026f8826074f23a9f6a06750962bce",
    "deepnote_cell_height": 773,
    "deepnote_cell_type": "code",
    "deepnote_to_be_reexecuted": false,
    "execution_millis": 1832364,
    "execution_start": 1650130490087,
    "source_hash": "460c34d1",
    "tags": []
   },
   "outputs": [
    {
     "name": "stdout",
     "output_type": "stream",
     "text": [
      "Fitting 5 folds for each of 1 candidates, totalling 5 fits\n"
     ]
    },
    {
     "name": "stderr",
     "output_type": "stream",
     "text": [
      "[Parallel(n_jobs=-1)]: Using backend LokyBackend with 8 concurrent workers.\n",
      "[Parallel(n_jobs=-1)]: Done   2 out of   5 | elapsed:    1.1s remaining:    1.8s\n",
      "[Parallel(n_jobs=-1)]: Done   5 out of   5 | elapsed:    1.2s remaining:    0.0s\n",
      "[Parallel(n_jobs=-1)]: Done   5 out of   5 | elapsed:    1.2s finished\n",
      "C:\\Users\\ivan.cho\\AppData\\Roaming\\Python\\Python38\\site-packages\\sklearn\\feature_selection\\_univariate_selection.py:114: UserWarning: Features [ 11  38  39  84 108 109 110 126 153 154 160 161 162 178 190 208 209 216\n",
      " 237 258 264 278 281 287 302 353 357] are constant.\n",
      "  warnings.warn(\"Features %s are constant.\" % constant_features_idx,\n",
      "C:\\Users\\ivan.cho\\AppData\\Roaming\\Python\\Python38\\site-packages\\sklearn\\feature_selection\\_univariate_selection.py:116: RuntimeWarning: invalid value encountered in true_divide\n",
      "  f = msb / msw\n"
     ]
    },
    {
     "name": "stdout",
     "output_type": "stream",
     "text": [
      "Classifier: RidgeClassifier()\n",
      "Best Parameters:\n",
      "{'clf__random_state': 42}\n"
     ]
    },
    {
     "ename": "FileNotFoundError",
     "evalue": "[Errno 2] No such file or directory: '/work/deepnote_exports/kbest_RidgeClass.csv'",
     "output_type": "error",
     "traceback": [
      "\u001b[1;31m---------------------------------------------------------------------------\u001b[0m",
      "\u001b[1;31mFileNotFoundError\u001b[0m                         Traceback (most recent call last)",
      "\u001b[1;32m<ipython-input-43-a9ce7d248735>\u001b[0m in \u001b[0;36m<module>\u001b[1;34m\u001b[0m\n\u001b[0;32m      3\u001b[0m \u001b[1;33m\u001b[0m\u001b[0m\n\u001b[0;32m      4\u001b[0m \u001b[1;32mfor\u001b[0m \u001b[1;33m(\u001b[0m\u001b[0mclf\u001b[0m\u001b[1;33m,\u001b[0m \u001b[0mclf_params\u001b[0m\u001b[1;33m)\u001b[0m \u001b[1;32min\u001b[0m \u001b[0mclassifiers\u001b[0m\u001b[1;33m:\u001b[0m\u001b[1;33m\u001b[0m\u001b[1;33m\u001b[0m\u001b[0m\n\u001b[1;32m----> 5\u001b[1;33m     \u001b[0mmodel_kbest\u001b[0m\u001b[1;33m(\u001b[0m\u001b[0mclf\u001b[0m\u001b[1;33m,\u001b[0m \u001b[0mclf_params\u001b[0m\u001b[1;33m)\u001b[0m\u001b[1;33m\u001b[0m\u001b[1;33m\u001b[0m\u001b[0m\n\u001b[0m",
      "\u001b[1;32m<ipython-input-42-b1cfda9d99da>\u001b[0m in \u001b[0;36mmodel_kbest\u001b[1;34m(clf, clf_params)\u001b[0m\n\u001b[0;32m     50\u001b[0m     \u001b[0mpred_submit\u001b[0m\u001b[1;33m[\u001b[0m\u001b[1;34m'Id'\u001b[0m\u001b[1;33m]\u001b[0m \u001b[1;33m=\u001b[0m \u001b[0mdf_predict\u001b[0m\u001b[1;33m[\u001b[0m\u001b[1;34m\"Id\"\u001b[0m\u001b[1;33m]\u001b[0m\u001b[1;33m.\u001b[0m\u001b[0mastype\u001b[0m\u001b[1;33m(\u001b[0m\u001b[0mint\u001b[0m\u001b[1;33m)\u001b[0m\u001b[1;33m\u001b[0m\u001b[1;33m\u001b[0m\u001b[0m\n\u001b[0;32m     51\u001b[0m \u001b[1;33m\u001b[0m\u001b[0m\n\u001b[1;32m---> 52\u001b[1;33m     \u001b[0mpred_submit\u001b[0m\u001b[1;33m[\u001b[0m\u001b[1;33m[\u001b[0m\u001b[1;34m\"Id\"\u001b[0m\u001b[1;33m,\u001b[0m \u001b[1;34m'WnvPresent'\u001b[0m\u001b[1;33m]\u001b[0m\u001b[1;33m]\u001b[0m\u001b[1;33m.\u001b[0m\u001b[0mto_csv\u001b[0m\u001b[1;33m(\u001b[0m\u001b[1;34mf\"/work/deepnote_exports/kbest_{filename}.csv\"\u001b[0m\u001b[1;33m,\u001b[0m \u001b[0mindex\u001b[0m\u001b[1;33m=\u001b[0m\u001b[1;32mFalse\u001b[0m\u001b[1;33m)\u001b[0m\u001b[1;33m\u001b[0m\u001b[1;33m\u001b[0m\u001b[0m\n\u001b[0m\u001b[0;32m     53\u001b[0m \u001b[1;33m\u001b[0m\u001b[0m\n\u001b[0;32m     54\u001b[0m     \u001b[1;32mreturn\u001b[0m \u001b[0mpipe\u001b[0m\u001b[1;33m\u001b[0m\u001b[1;33m\u001b[0m\u001b[0m\n",
      "\u001b[1;32m~\\AppData\\Roaming\\Python\\Python38\\site-packages\\pandas\\core\\generic.py\u001b[0m in \u001b[0;36mto_csv\u001b[1;34m(self, path_or_buf, sep, na_rep, float_format, columns, header, index, index_label, mode, encoding, compression, quoting, quotechar, line_terminator, chunksize, date_format, doublequote, escapechar, decimal)\u001b[0m\n\u001b[0;32m   3202\u001b[0m             \u001b[0mdecimal\u001b[0m\u001b[1;33m=\u001b[0m\u001b[0mdecimal\u001b[0m\u001b[1;33m,\u001b[0m\u001b[1;33m\u001b[0m\u001b[1;33m\u001b[0m\u001b[0m\n\u001b[0;32m   3203\u001b[0m         )\n\u001b[1;32m-> 3204\u001b[1;33m         \u001b[0mformatter\u001b[0m\u001b[1;33m.\u001b[0m\u001b[0msave\u001b[0m\u001b[1;33m(\u001b[0m\u001b[1;33m)\u001b[0m\u001b[1;33m\u001b[0m\u001b[1;33m\u001b[0m\u001b[0m\n\u001b[0m\u001b[0;32m   3205\u001b[0m \u001b[1;33m\u001b[0m\u001b[0m\n\u001b[0;32m   3206\u001b[0m         \u001b[1;32mif\u001b[0m \u001b[0mpath_or_buf\u001b[0m \u001b[1;32mis\u001b[0m \u001b[1;32mNone\u001b[0m\u001b[1;33m:\u001b[0m\u001b[1;33m\u001b[0m\u001b[1;33m\u001b[0m\u001b[0m\n",
      "\u001b[1;32m~\\AppData\\Roaming\\Python\\Python38\\site-packages\\pandas\\io\\formats\\csvs.py\u001b[0m in \u001b[0;36msave\u001b[1;34m(self)\u001b[0m\n\u001b[0;32m    182\u001b[0m             \u001b[0mclose\u001b[0m \u001b[1;33m=\u001b[0m \u001b[1;32mFalse\u001b[0m\u001b[1;33m\u001b[0m\u001b[1;33m\u001b[0m\u001b[0m\n\u001b[0;32m    183\u001b[0m         \u001b[1;32melse\u001b[0m\u001b[1;33m:\u001b[0m\u001b[1;33m\u001b[0m\u001b[1;33m\u001b[0m\u001b[0m\n\u001b[1;32m--> 184\u001b[1;33m             f, handles = get_handle(\n\u001b[0m\u001b[0;32m    185\u001b[0m                 \u001b[0mself\u001b[0m\u001b[1;33m.\u001b[0m\u001b[0mpath_or_buf\u001b[0m\u001b[1;33m,\u001b[0m\u001b[1;33m\u001b[0m\u001b[1;33m\u001b[0m\u001b[0m\n\u001b[0;32m    186\u001b[0m                 \u001b[0mself\u001b[0m\u001b[1;33m.\u001b[0m\u001b[0mmode\u001b[0m\u001b[1;33m,\u001b[0m\u001b[1;33m\u001b[0m\u001b[1;33m\u001b[0m\u001b[0m\n",
      "\u001b[1;32m~\\AppData\\Roaming\\Python\\Python38\\site-packages\\pandas\\io\\common.py\u001b[0m in \u001b[0;36mget_handle\u001b[1;34m(path_or_buf, mode, encoding, compression, memory_map, is_text)\u001b[0m\n\u001b[0;32m    426\u001b[0m         \u001b[1;32mif\u001b[0m \u001b[0mencoding\u001b[0m\u001b[1;33m:\u001b[0m\u001b[1;33m\u001b[0m\u001b[1;33m\u001b[0m\u001b[0m\n\u001b[0;32m    427\u001b[0m             \u001b[1;31m# Encoding\u001b[0m\u001b[1;33m\u001b[0m\u001b[1;33m\u001b[0m\u001b[1;33m\u001b[0m\u001b[0m\n\u001b[1;32m--> 428\u001b[1;33m             \u001b[0mf\u001b[0m \u001b[1;33m=\u001b[0m \u001b[0mopen\u001b[0m\u001b[1;33m(\u001b[0m\u001b[0mpath_or_buf\u001b[0m\u001b[1;33m,\u001b[0m \u001b[0mmode\u001b[0m\u001b[1;33m,\u001b[0m \u001b[0mencoding\u001b[0m\u001b[1;33m=\u001b[0m\u001b[0mencoding\u001b[0m\u001b[1;33m,\u001b[0m \u001b[0mnewline\u001b[0m\u001b[1;33m=\u001b[0m\u001b[1;34m\"\"\u001b[0m\u001b[1;33m)\u001b[0m\u001b[1;33m\u001b[0m\u001b[1;33m\u001b[0m\u001b[0m\n\u001b[0m\u001b[0;32m    429\u001b[0m         \u001b[1;32melif\u001b[0m \u001b[0mis_text\u001b[0m\u001b[1;33m:\u001b[0m\u001b[1;33m\u001b[0m\u001b[1;33m\u001b[0m\u001b[0m\n\u001b[0;32m    430\u001b[0m             \u001b[1;31m# No explicit encoding\u001b[0m\u001b[1;33m\u001b[0m\u001b[1;33m\u001b[0m\u001b[1;33m\u001b[0m\u001b[0m\n",
      "\u001b[1;31mFileNotFoundError\u001b[0m: [Errno 2] No such file or directory: '/work/deepnote_exports/kbest_RidgeClass.csv'"
     ]
    }
   ],
   "source": [
    "# Run through gridsearch for every model\n",
    "result = []\n",
    "\n",
    "for (clf, clf_params) in classifiers:\n",
    "    model_kbest(clf, clf_params)"
   ]
  },
  {
   "cell_type": "code",
   "execution_count": null,
   "metadata": {
    "cell_id": "155cb8d97d6e435ba6ba5886bca49a11",
    "deepnote_cell_height": 577,
    "deepnote_cell_type": "code",
    "deepnote_to_be_reexecuted": false,
    "execution_millis": 40,
    "execution_start": 1650132322467,
    "source_hash": "841ad6e1",
    "tags": []
   },
   "outputs": [],
   "source": [
    "# Results sorted by Test ROC-AUC with SelectKBest\n",
    "pd.DataFrame(result).sort_values(by='Test ROC-AUC Score', ascending=False).reset_index(drop=True)"
   ]
  },
  {
   "cell_type": "markdown",
   "metadata": {
    "cell_id": "75264035bb804a79a95fa46a5aae0f8d",
    "deepnote_cell_height": 646.203125,
    "deepnote_cell_type": "markdown",
    "owner_user_id": "96967540-d7fa-4f04-9fd2-398c2d9782cc",
    "tags": []
   },
   "source": [
    "## 07. Summary\n",
    "\n",
    "We have imbalance dataset where the minority is our positive class (WNV is present), and model built with the original dataset is predicting almost everything as negative class (WNV is not present). We addressed the issue by using oversampling through the SMOTE technique.\n",
    "\n",
    "We look at the coefficient and the top 10 features using RidgeClassifier\" weather features like Sunrise, Dewpoint,  featured engineered like Relative Humidity, calculation from the peak day of the presence of WNV  (day_from_max_wnv) and also the rolling average (window function) of some weather features. \n",
    "\n",
    "We built several models including deep learning with l1 regularizer, dropout and early stop, however this is still around 59% ROC.\n",
    "\n",
    "From the pipeline, using GridSearchCSV, ExtraTrees was chosen as best model, with 73% ROC and 74% Recall. To iterate, it will be vital to minimize the cases with false negatives as the resources will not be directed to those in need if the model is not predicting it correctly. As such, we will also have to prioritise the recall - how accurate the model is in identifying west nile virus.\n",
    "\n",
    "We decided to send the prediction of all models to Kaggle to see how is the ROC-AUC score for each model.\n",
    "RidgeClassifier tops the ROC-AUC with a score of 70%, second is LR and SGD. Ridge and SGD are both estimators that implement regularized linear models.\n",
    "\n",
    "We then built another set of pipeline that chooses 200 best features out of 363, with the assumption that selecting features will improve our model, however the result was not so different with  the original one.\n",
    "\n",
    "For future improvement, we can further analyse how to incorporate spray in our models, and this will improve the false negative if we have more spray data for all years. <br>\n",
    "**Public Score in Kaggle**\n",
    "\n",
    "| Model *********** | ROC-AUC *********| w SelectKBest |\n",
    "| ----------------- | ---------------- | --------------|\n",
    "| Ridge             |0.70132            |0.69609       |\n",
    "| LR                |0.68193            |0.68991       |\n",
    "| SGD               |0.67771            |0.69321       |\n",
    "| ADA               |0.65550            |0.55385       |\n",
    "| ET                |0.63570            |0.63139       |\n",
    "| RF                |0.63302            |0.62832       |\n",
    "| LGBM              | 0.61089           |0.61815       |\n",
    "| GB                |0.59286            |0.61269       |\n",
    "| XGB               |0.58463           |0.57325       |\n"
   ]
  },
  {
   "cell_type": "markdown",
   "metadata": {
    "cell_id": "31bfdc48ee48454eb2459880ec891a16",
    "deepnote_cell_height": 46,
    "deepnote_cell_type": "markdown",
    "tags": []
   },
   "source": []
  },
  {
   "cell_type": "markdown",
   "metadata": {
    "created_in_deepnote_cell": true,
    "deepnote_cell_type": "markdown",
    "tags": []
   },
   "source": [
    "<a style='text-decoration:none;line-height:16px;display:flex;color:#5B5B62;padding:10px;justify-content:end;' href='https://deepnote.com?utm_source=created-in-deepnote-cell&projectId=3abded61-2db4-446b-a02d-565b62921f1b' target=\"_blank\">\n",
    "<img alt='Created in deepnote.com' style='display:inline;max-height:16px;margin:0px;margin-right:7.5px;' src='data:image/svg+xml;base64,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' > </img>\n",
    "Created in <span style='font-weight:600;margin-left:4px;'>Deepnote</span></a>"
   ]
  }
 ],
 "metadata": {
  "deepnote": {
   "is_reactive": false
  },
  "deepnote_execution_queue": [],
  "deepnote_notebook_id": "7b4728e3-e744-42bd-897f-939a8f5b6c31",
  "kernelspec": {
   "display_name": "Python 3",
   "language": "python",
   "name": "python3"
  },
  "language_info": {
   "codemirror_mode": {
    "name": "ipython",
    "version": 3
   },
   "file_extension": ".py",
   "mimetype": "text/x-python",
   "name": "python",
   "nbconvert_exporter": "python",
   "pygments_lexer": "ipython3",
   "version": "3.8.8"
  }
 },
 "nbformat": 4,
 "nbformat_minor": 2
}
